{
 "cells": [
  {
   "cell_type": "markdown",
   "metadata": {
    "slideshow": {
     "slide_type": "slide"
    }
   },
   "source": [
    "<center><span style=\"color:blue; font-family:Georgia;  font-size:2em;\">\n",
    "    <h1>PageRank</h1></span></center>\n",
    "    <p> </p>\n",
    "    <p> </p>\n",
    "    <center><span style=\"color:blue; font-family:Georgia;  font-size:1em;\">\n",
    "    Ramon Béjar</span></center>\n",
    "    <canvas id=\"myCanvas\" width=\"200\" height=\"100\" style=\"border:0px solid\"></canvas>\n",
    "    <center>Data mining - Master on Computer Science</center>\n",
    "    <center><img src=\"M-UdL2.png\"  width=\"200\" alt=\"UdL Logo\"></center>"
   ]
  },
  {
   "cell_type": "markdown",
   "metadata": {
    "slideshow": {
     "slide_type": "slide"
    }
   },
   "source": [
    "In this notebook, we study the PageRank algorithm used to rank (order) web pages by a ranking order based on the probability to reach a web page performing a \"random walk\" trough the web graph. The web graph we consider is the one where nodes represent web pages, and directed edges represent directed links (a link from page A to page B is represented as a directed edge from A to B in the web graph).\n",
    "\n",
    "We focus on a simple version of Page Rank, where the update formula for the pagerank of a webpage does not consider the \"dampling factor\" that is actually considered in implementations of PageRank that try to take into account the problem of \"dangling nodes\" and \"disconnected components\"."
   ]
  },
  {
   "cell_type": "markdown",
   "metadata": {
    "slideshow": {
     "slide_type": "skip"
    }
   },
   "source": [
    "Preliminary start-up code:"
   ]
  },
  {
   "cell_type": "code",
   "execution_count": 1,
   "metadata": {
    "slideshow": {
     "slide_type": "skip"
    }
   },
   "outputs": [],
   "source": [
    "import warnings\n",
    "warnings.filterwarnings('ignore')"
   ]
  },
  {
   "cell_type": "code",
   "execution_count": 2,
   "metadata": {
    "slideshow": {
     "slide_type": "skip"
    }
   },
   "outputs": [
    {
     "name": "stdout",
     "output_type": "stream",
     "text": [
      "/usr/local/share/spark-3.0.1-bin-hadoop2.7\n"
     ]
    },
    {
     "data": {
      "text/html": [
       "\n",
       "        <div>\n",
       "            <p><b>SparkContext</b></p>\n",
       "\n",
       "            <p><a href=\"http://udlnet-03-074.udl.net:4040\">Spark UI</a></p>\n",
       "\n",
       "            <dl>\n",
       "              <dt>Version</dt>\n",
       "                <dd><code>v3.0.1</code></dd>\n",
       "              <dt>Master</dt>\n",
       "                <dd><code>local[*]</code></dd>\n",
       "              <dt>AppName</dt>\n",
       "                <dd><code>pyspark-shell</code></dd>\n",
       "            </dl>\n",
       "        </div>\n",
       "        "
      ],
      "text/plain": [
       "<SparkContext master=local[*] appName=pyspark-shell>"
      ]
     },
     "execution_count": 2,
     "metadata": {},
     "output_type": "execute_result"
    }
   ],
   "source": [
    "import pyspark\n",
    "import os\n",
    "import math\n",
    "import random\n",
    "import sys\n",
    "\n",
    "\n",
    "spark_home = os.environ.get('SPARK_HOME', None)\n",
    "print ( spark_home )\n",
    "sc = pyspark.SparkContext('local[*]')\n",
    "sc.setLogLevel('ERROR')\n",
    "sc"
   ]
  },
  {
   "cell_type": "markdown",
   "metadata": {
    "slideshow": {
     "slide_type": "slide"
    }
   },
   "source": [
    "# Random Walk\n",
    "\n",
    "Consider a  **random walk** trough the following simple graph:\n",
    "\n",
    "\n",
    "<div>\n",
    "<img style=\"float: center;\" src=\"graph1-s0.png\" width =\"300px\"  />\n",
    "</div>\n",
    "\n",
    "Consider that at the beginning we start a random walk at any node with the same probability:\n",
    "\n",
    "$$ \\pi⁰ = [1/5,1/5,1/5,1/5,1/5] $$\n",
    "\n",
    "What will happen after many steps of the random walk ? It seems like we should end with high probability at the central node $n0$.\n",
    "\n"
   ]
  },
  {
   "cell_type": "markdown",
   "metadata": {
    "collapsed": true,
    "jupyter": {
     "outputs_hidden": true
    },
    "slideshow": {
     "slide_type": "subslide"
    }
   },
   "source": [
    "## Random Walk Example 1\n",
    "\n",
    "After one step, the probability to move to node $ni$ is updated as:\n",
    "\n",
    "$$ \\pi^1(i) = \\sum_{nodes \\ j \\ that \\ link \\ to \\ i} \\pi^0(j) \\frac{1}{odeg(j)}   $$\n",
    "\n",
    "where $odeg(j)$ is the number of **outgoing edges from node j**. Then:\n",
    "\n",
    "$$  \\pi^1 = [(1/5+1/5+1/5+1/5),0,0,0,0] $$\n",
    "\n",
    "Observe that we talk about the probability to move to a particular node, and because once we reach node $n0$ we will not move anymore, because this node has no \"outgoing\" edges, at this step the probability \"to move\" to node n0 is 4/5 (if we started at n0 at the beginning we did not move anymore at this step). This is the problem of what it is called \"dangling nodes\" (nodes that make the random walk to stop). \n",
    "\n",
    "But the relevant point here is that if we repeat these steps many times, the final probability values we get can be used as a measure of the \"relevance\" of that node, because that value indicates how likely is the event that we reach that node of the graph after many steps (assuming no dangling nodes are in the graph)."
   ]
  },
  {
   "cell_type": "markdown",
   "metadata": {
    "slideshow": {
     "slide_type": "subslide"
    }
   },
   "source": [
    "## Random Walk Example 2, no dangling nodes\n",
    "\n",
    "We can modify the example to make dissapear the problem of dangling nodes by make a self-loop in that node:\n",
    "\n",
    "<div>\n",
    "<img style=\"float: center;\" src=\"graph2-s0.png\" width =\"500px\"  />\n",
    "</div>\n",
    "\n",
    "\n",
    "Then, a random walk in this graph will never stop, and now the probability \"of being\" at the different nodes after 1 step is:\n",
    "\n",
    "$$  \\pi^1 = [1,0,0,0,0] $$\n",
    "\n",
    "Thanks to the fact that now node $n_0$ has a link to itself, so the formula for this node after one step is:\n",
    "\n",
    "\n",
    "$$  \\pi^1(0) = \\sum_{nodes \\ j \\ that \\ link \\ to \\ 0} \\pi^0(j) \\frac{1}{odeg(j)} = (1/5+1/5+1/5+1/5+1/5) = 1$$\n"
   ]
  },
  {
   "cell_type": "markdown",
   "metadata": {
    "slideshow": {
     "slide_type": "subslide"
    }
   },
   "source": [
    "So, it is clear that from this time updating the formula will not modify the probabilities any more:\n",
    "\n",
    "$$  \\pi^2(0) = \\sum_{nodes \\ j \\ that \\ link \\ to \\ 0} \\pi^1(j) \\frac{1}{odeg(j)} = (1+0/5+0/5+0/5+0/5) = 1$$\n",
    "\n",
    "and for any other node ni different from $n_0$:\n",
    "\n",
    "$$ i \\neq 0 \\rightarrow \\pi^2(i) = \\sum_{nodes \\ j \\ that \\ link \\ to \\ i} \\pi^1(j) \\frac{1}{deg(j)} = 0$$\n",
    "\n",
    "as the other nodes do not have any incoming links\n",
    "\n",
    "So, we say that we have reached an stationary distribution. And using the distribution as a way to \"rank\" the nodes, we can conclude that the most relevant node is the node  $n_0$."
   ]
  },
  {
   "cell_type": "markdown",
   "metadata": {
    "slideshow": {
     "slide_type": "subslide"
    }
   },
   "source": [
    "### Random Walk Example 3, no dangling nodes\n",
    "\n",
    "Ok, but in general graphs will have more links, and we will need to simulate \"more steps\" to reach an stable distribution. Consider this modified example:\n",
    "\n",
    "<div>\n",
    "<img style=\"center;\" src=\"graph3-s0.png\" width =\"500px\"  />\n",
    "</div>\n",
    "\n",
    "Initial distribution:\n",
    "$$ \\pi^{0} = [1/5,1/5,1/5,1/5,1/5] $$\n",
    "\n",
    "After first step:\n",
    "\n",
    "$$ \\pi^1 = [1/5*(1/2)+(4/5),1/5*(1/2),0,0,0] = [0.9,0.1,0,0,0] $$\n",
    "\n"
   ]
  },
  {
   "cell_type": "markdown",
   "metadata": {
    "slideshow": {
     "slide_type": "subslide"
    }
   },
   "source": [
    "After second step:\n",
    "\n",
    "$$ \\pi^2 = [0.9*(1/2)+0.1,0.9*(1/2),0,0,0] = [0.55,0.45,0,0,0] $$\n",
    "\n",
    "After third step:\n",
    "\n",
    "$$ \\pi^3 = [0.55*(1/2)+0.45,0.55*(1/2),0,0,0] = [0.725,0.275,0,0,0] $$\n",
    "\n",
    "After fourth step:\n",
    "\n",
    "$$ \\pi^4 = [0.725*(1/2)+0.275,0.725*(1/2),0,0,0] = [0.6375,0.3625,0,0,0] $$"
   ]
  },
  {
   "cell_type": "markdown",
   "metadata": {
    "slideshow": {
     "slide_type": "subslide"
    }
   },
   "source": [
    "After fith step:\n",
    "\n",
    "$$ \\pi^5 = [0.6375*(1/2)+0.3625,0.6375*(1/2),0,0,0] = [0.6812,0.3187,0,0,0] $$\n",
    "\n",
    "After sixth step:\n",
    "\n",
    "$$ \\pi^6= [0.6812*(1/2)+0.3187,0.6812*(1/2),0,0,0] = [0.6593,0.3406,0,0,0] $$\n",
    "\n",
    "...\n",
    "\n",
    "After 20th step:\n",
    "\n",
    "$$ \\pi^{20} = [0.6666,0.3333,0,0,0] $$\n",
    "\n",
    "So, in this modified example the rank is distributed among the first two vertices (but still the most relevant is the first one). But observe that we need some more iterations to reach the stable distribution!"
   ]
  },
  {
   "cell_type": "markdown",
   "metadata": {
    "slideshow": {
     "slide_type": "slide"
    },
    "tags": []
   },
   "source": [
    "# The PageRank Algorithm\n",
    "\n",
    "So, the PageRank algorithm for a directed graph with no dangling nodes is simply the iterated update of the previous equation that computes the probability of being on the different nodes after a random walk of many steps:\n",
    "\n",
    "At iteration t+1, the rank vector $\\pi^{t+1}$ is updated as:\n",
    "            \n",
    "$$  \\pi^{t+1}(i) = \\sum_{nodes \\ j \\ that \\ link \\ to \\ i} \\pi^t(j) \\frac{1}{odeg(j)}  $$\n",
    "\n",
    "When do we stop iterating ?\n",
    "- The best option would be to stop when we reach a point where the solution is almost stable (no significant changes from $ \\pi^t$ to $ \\pi^{t+1}$).\n",
    "- We can also use some maximum number of iterations."
   ]
  },
  {
   "cell_type": "markdown",
   "metadata": {
    "collapsed": true,
    "jupyter": {
     "outputs_hidden": true
    },
    "slideshow": {
     "slide_type": "subslide"
    },
    "tags": []
   },
   "source": [
    "## High-level pseudo-code of the PageRank algorithm\n",
    "\n",
    ">LinksRDD = { (j, $[i_1,i_2,...,i_k]$)  | there is a link from j to $i_{l}$ }  \n",
    ">$\\pi^0$ := [1/n,1/n,...,1/n]  \n",
    ">RankRDD = { $(j,\\pi^0[j])$  |  for  all  the  nodes  j }  \n",
    ">t=0  \n",
    ">While ( *rank vector $\\pi^t$ not stable* ) do: \n",
    ">>// Join linksRDD with RankRDD to get pairs of the kind:  \n",
    ">>// { ( j , ( [i1,i2,...,ik], $\\pi^t[j]$ )) | for any node j }  \n",
    ">>LinksRankInfoRDD = LinksRDD.join( RankRDD )  \n",
    ">>// compute all the contributions from  node j to target node i  \n",
    ">>flatContRDD = $\\{ (i, \\pi^t(j) \\frac{1}{odeg(j)}  ) \\ | \\ for \\ any \\ edge \\ j\\rightarrow i \\} $  \n",
    ">>// Reduce all the elements with the same key i  \n",
    ">>// to get $ \\pi^{t+1}[i] = \\sum_{j \\ edge \\ to \\ i}  \\pi^t(j) \\frac{1}{odeg(j)} $  \n",
    ">>RankRDD = flatContRDD.ReduceByKey( x,y : x+y )  \n",
    ">>t=t+1"
   ]
  },
  {
   "cell_type": "markdown",
   "metadata": {
    "slideshow": {
     "slide_type": "slide"
    },
    "tags": []
   },
   "source": [
    "# PageRank Implementation in map-reduce\n",
    "\n",
    "To implement the algorithm with map-reduce, we need to mantain two main RDDs:\n",
    "1. The main one, **that will not change** (LinksRDD), represents the set of all the links $ j \\rightarrow i $ for any node j. That is, a suitable representation of the graph. We will using key,value records of this kind:\n",
    "    $$ (j, [i_1,i_2,...,i_k]) $$\n",
    "   that indicate that there is a link from node j to any node in the list\n",
    "2. The second one is the rank vector (RankRDD), that will be updated with a new one in each iteration (from the point of view of spark the RDD for $   \\pi^{t+1} $ will be created and the one for  $   \\pi^{t} $   will be eliminated)."
   ]
  },
  {
   "cell_type": "code",
   "execution_count": 3,
   "metadata": {
    "slideshow": {
     "slide_type": "subslide"
    },
    "tags": []
   },
   "outputs": [],
   "source": [
    "# Example 1, with a dangling node\n",
    "LinksRDD = sc.parallelize( [(0,[]),(1,[0]),(2,[0]),(3,[0]),(4,[0])] )\n",
    "RankRDD = sc.parallelize( [(0,1/5),(1,1/5),(2,1/5),(3,1/5),(4,1/5)] ) "
   ]
  },
  {
   "cell_type": "code",
   "execution_count": 4,
   "metadata": {
    "slideshow": {
     "slide_type": "fragment"
    }
   },
   "outputs": [],
   "source": [
    "# Example 2\n",
    "LinksRDD = sc.parallelize( [(0,[0]),(1,[0]),(2,[0]),(3,[0]),(4,[0])] )\n",
    "RankRDD = sc.parallelize( [(0,1/5),(1,1/5),(2,1/5),(3,1/5),(4,1/5)] ) "
   ]
  },
  {
   "cell_type": "code",
   "execution_count": 5,
   "metadata": {
    "slideshow": {
     "slide_type": "fragment"
    }
   },
   "outputs": [],
   "source": [
    "# Example 3\n",
    "LinksRDD = sc.parallelize( [(0,[0,1]),(1,[0]),(2,[0]),(3,[0]),(4,[0])] )\n",
    "RankRDD = sc.parallelize( [(0,1/5),(1,1/5),(2,1/5),(3,1/5),(4,1/5)] ) "
   ]
  },
  {
   "cell_type": "code",
   "execution_count": 6,
   "metadata": {
    "slideshow": {
     "slide_type": "fragment"
    }
   },
   "outputs": [],
   "source": [
    "# Example 4, two disconnected subgraphs\n",
    "LinksRDD = sc.parallelize( [(0,[1]),(1,[2]),(2,[0]), (3,[4]),(4,[5]),(5,[3])] )\n",
    "RankRDD = sc.parallelize( [(0,1/6),(1,1/6),(2,1/6),(3,1/6),(4,1/6), (5,1/6) ] ) "
   ]
  },
  {
   "cell_type": "markdown",
   "metadata": {
    "slideshow": {
     "slide_type": "subslide"
    }
   },
   "source": [
    "## Exercise, implement PageRank\n",
    "\n",
    "Implement PageRank using the next function to map a record of the type \n",
    "(j,  (list of nodes to which j points to, current rank of j))\n",
    "\n",
    "to a flat list of records of the type:\n",
    "\n",
    "( i, rank(j)/odeg(j) )\n",
    "\n",
    "where there is a node FROM j TO i"
   ]
  },
  {
   "cell_type": "code",
   "execution_count": 1,
   "metadata": {
    "slideshow": {
     "slide_type": "subslide"
    }
   },
   "outputs": [],
   "source": [
    "def getContributions( linksAndRank ):\n",
    "    j = linksAndRank[0]\n",
    "    targets = linksAndRank[1][0]\n",
    "    rankj = linksAndRank[1][1]\n",
    "    odegj = float(len(targets))\n",
    "    # Iterate over all pages i with a link from j (j -> i)\n",
    "    return [ (i,rankj/odegj) for i in targets]"
   ]
  },
  {
   "cell_type": "code",
   "execution_count": null,
   "metadata": {
    "slideshow": {
     "slide_type": "fragment"
    }
   },
   "outputs": [],
   "source": [
    "print ( \"time 0:\", RankRDD.collect() )\n",
    "iter = 1\n",
    "while (iter <= 10):\n",
    "    LinksRankInfo =  \n",
    "    flatContributions =  \n",
    "    RankRDD = flatContributions.reduceByKey( lambda x,y : x+y )\n",
    "    print ( \"time \",iter,\":\", RankRDD.collect() )\n",
    "    iter = iter +1"
   ]
  }
 ],
 "metadata": {
  "celltoolbar": "Slideshow",
  "kernelspec": {
   "display_name": "Python 3",
   "language": "python",
   "name": "python3"
  },
  "language_info": {
   "codemirror_mode": {
    "name": "ipython",
    "version": 3
   },
   "file_extension": ".py",
   "mimetype": "text/x-python",
   "name": "python",
   "nbconvert_exporter": "python",
   "pygments_lexer": "ipython3",
   "version": "3.8.10"
  }
 },
 "nbformat": 4,
 "nbformat_minor": 4
}
