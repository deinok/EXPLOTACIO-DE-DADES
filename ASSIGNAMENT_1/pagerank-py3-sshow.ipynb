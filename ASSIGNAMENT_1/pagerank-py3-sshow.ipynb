{
  "cells": [
    {
      "cell_type": "markdown",
      "metadata": {
        "id": "xUYNznMdxwMU"
      },
      "source": [
        "<center><span style=\"color:blue; font-family:Georgia;  font-size:2em;\">\n",
        "    <h1>PageRank</h1></span></center>\n",
        "    <p> </p>\n",
        "    <p> </p>\n",
        "    <center><span style=\"color:blue; font-family:Georgia;  font-size:1em;\">\n",
        "    Ramon Béjar</span></center>\n",
        "    <canvas id=\"myCanvas\" width=\"200\" height=\"100\" style=\"border:0px solid\"></canvas>\n",
        "    <center>Data mining - Master on Computer Science</center>\n",
        "    <center><img src=\"https://github.com/deinok/EXPLOTACIO-DE-DADES/blob/main/ASSIGNAMENT_1/M-UdL2.png?raw=1\"  width=\"200\" alt=\"UdL Logo\"></center>"
      ]
    },
    {
      "cell_type": "markdown",
      "metadata": {
        "id": "d5QnAsWuxwMV"
      },
      "source": [
        "In this notebook, we study the PageRank algorithm used to rank (order) web pages by a ranking order based on the probability to reach a web page performing a \"random walk\" trough the web graph. The web graph we consider is the one where nodes represent web pages, and directed edges represent directed links (a link from page A to page B is represented as a directed edge from A to B in the web graph).\n",
        "\n",
        "We focus on a simple version of Page Rank, where the update formula for the pagerank of a webpage does not consider the \"dampling factor\" that is actually considered in implementations of PageRank that try to take into account the problem of \"dangling nodes\" and \"disconnected components\"."
      ]
    },
    {
      "cell_type": "markdown",
      "metadata": {
        "id": "XI7sEwPwxwMW"
      },
      "source": [
        "Preliminary start-up code:"
      ]
    },
    {
      "cell_type": "code",
      "execution_count": 1,
      "metadata": {
        "id": "3FjDVxcKxwMW"
      },
      "outputs": [],
      "source": [
        "import warnings\n",
        "warnings.filterwarnings('ignore')"
      ]
    },
    {
      "cell_type": "code",
      "execution_count": 5,
      "metadata": {
        "id": "pv-WdKUOxwMX",
        "outputId": "eae45a6a-b84e-47f3-d667-a390b51ecb67",
        "colab": {
          "base_uri": "https://localhost:8080/",
          "height": 391
        }
      },
      "outputs": [
        {
          "output_type": "stream",
          "name": "stdout",
          "text": [
            "None\n"
          ]
        },
        {
          "output_type": "error",
          "ename": "ValueError",
          "evalue": "Cannot run multiple SparkContexts at once; existing SparkContext(app=pyspark-shell, master=local[*]) created by __init__ at /tmp/ipython-input-903549013.py:10 ",
          "traceback": [
            "\u001b[0;31m---------------------------------------------------------------------------\u001b[0m",
            "\u001b[0;31mValueError\u001b[0m                                Traceback (most recent call last)",
            "\u001b[0;32m/tmp/ipython-input-903549013.py\u001b[0m in \u001b[0;36m<cell line: 0>\u001b[0;34m()\u001b[0m\n\u001b[1;32m      8\u001b[0m \u001b[0mspark_home\u001b[0m \u001b[0;34m=\u001b[0m \u001b[0mos\u001b[0m\u001b[0;34m.\u001b[0m\u001b[0menviron\u001b[0m\u001b[0;34m.\u001b[0m\u001b[0mget\u001b[0m\u001b[0;34m(\u001b[0m\u001b[0;34m'SPARK_HOME'\u001b[0m\u001b[0;34m,\u001b[0m \u001b[0;32mNone\u001b[0m\u001b[0;34m)\u001b[0m\u001b[0;34m\u001b[0m\u001b[0;34m\u001b[0m\u001b[0m\n\u001b[1;32m      9\u001b[0m \u001b[0mprint\u001b[0m \u001b[0;34m(\u001b[0m \u001b[0mspark_home\u001b[0m \u001b[0;34m)\u001b[0m\u001b[0;34m\u001b[0m\u001b[0;34m\u001b[0m\u001b[0m\n\u001b[0;32m---> 10\u001b[0;31m \u001b[0msc\u001b[0m \u001b[0;34m=\u001b[0m \u001b[0mpyspark\u001b[0m\u001b[0;34m.\u001b[0m\u001b[0mSparkContext\u001b[0m\u001b[0;34m(\u001b[0m\u001b[0;34m'local[*]'\u001b[0m\u001b[0;34m)\u001b[0m\u001b[0;34m\u001b[0m\u001b[0;34m\u001b[0m\u001b[0m\n\u001b[0m\u001b[1;32m     11\u001b[0m \u001b[0msc\u001b[0m\u001b[0;34m.\u001b[0m\u001b[0msetLogLevel\u001b[0m\u001b[0;34m(\u001b[0m\u001b[0;34m'ERROR'\u001b[0m\u001b[0;34m)\u001b[0m\u001b[0;34m\u001b[0m\u001b[0;34m\u001b[0m\u001b[0m\n\u001b[1;32m     12\u001b[0m \u001b[0msc\u001b[0m\u001b[0;34m\u001b[0m\u001b[0;34m\u001b[0m\u001b[0m\n",
            "\u001b[0;32m/usr/local/lib/python3.12/dist-packages/pyspark/context.py\u001b[0m in \u001b[0;36m__init__\u001b[0;34m(self, master, appName, sparkHome, pyFiles, environment, batchSize, serializer, conf, gateway, jsc, profiler_cls, udf_profiler_cls, memory_profiler_cls)\u001b[0m\n\u001b[1;32m    199\u001b[0m             )\n\u001b[1;32m    200\u001b[0m \u001b[0;34m\u001b[0m\u001b[0m\n\u001b[0;32m--> 201\u001b[0;31m         \u001b[0mSparkContext\u001b[0m\u001b[0;34m.\u001b[0m\u001b[0m_ensure_initialized\u001b[0m\u001b[0;34m(\u001b[0m\u001b[0mself\u001b[0m\u001b[0;34m,\u001b[0m \u001b[0mgateway\u001b[0m\u001b[0;34m=\u001b[0m\u001b[0mgateway\u001b[0m\u001b[0;34m,\u001b[0m \u001b[0mconf\u001b[0m\u001b[0;34m=\u001b[0m\u001b[0mconf\u001b[0m\u001b[0;34m)\u001b[0m\u001b[0;34m\u001b[0m\u001b[0;34m\u001b[0m\u001b[0m\n\u001b[0m\u001b[1;32m    202\u001b[0m         \u001b[0;32mtry\u001b[0m\u001b[0;34m:\u001b[0m\u001b[0;34m\u001b[0m\u001b[0;34m\u001b[0m\u001b[0m\n\u001b[1;32m    203\u001b[0m             self._do_init(\n",
            "\u001b[0;32m/usr/local/lib/python3.12/dist-packages/pyspark/context.py\u001b[0m in \u001b[0;36m_ensure_initialized\u001b[0;34m(cls, instance, gateway, conf)\u001b[0m\n\u001b[1;32m    447\u001b[0m \u001b[0;34m\u001b[0m\u001b[0m\n\u001b[1;32m    448\u001b[0m                     \u001b[0;31m# Raise error if there is already a running Spark context\u001b[0m\u001b[0;34m\u001b[0m\u001b[0;34m\u001b[0m\u001b[0m\n\u001b[0;32m--> 449\u001b[0;31m                     raise ValueError(\n\u001b[0m\u001b[1;32m    450\u001b[0m                         \u001b[0;34m\"Cannot run multiple SparkContexts at once; \"\u001b[0m\u001b[0;34m\u001b[0m\u001b[0;34m\u001b[0m\u001b[0m\n\u001b[1;32m    451\u001b[0m                         \u001b[0;34m\"existing SparkContext(app=%s, master=%s)\"\u001b[0m\u001b[0;34m\u001b[0m\u001b[0;34m\u001b[0m\u001b[0m\n",
            "\u001b[0;31mValueError\u001b[0m: Cannot run multiple SparkContexts at once; existing SparkContext(app=pyspark-shell, master=local[*]) created by __init__ at /tmp/ipython-input-903549013.py:10 "
          ]
        }
      ],
      "source": [
        "import pyspark\n",
        "import os\n",
        "import math\n",
        "import random\n",
        "import sys\n",
        "\n",
        "\n",
        "spark_home = os.environ.get('SPARK_HOME', None)\n",
        "print ( spark_home )\n",
        "sc = pyspark.SparkContext('local[*]')\n",
        "sc.setLogLevel('ERROR')\n",
        "sc"
      ]
    },
    {
      "cell_type": "markdown",
      "metadata": {
        "id": "XVaYNcCAxwMY"
      },
      "source": [
        "# Random Walk\n",
        "\n",
        "Consider a  **random walk** trough the following simple graph:\n",
        "\n",
        "\n",
        "<div>\n",
        "<img style=\"float: center;\" src=\"https://github.com/deinok/EXPLOTACIO-DE-DADES/blob/main/ASSIGNAMENT_1/graph1-s0.png?raw=1\" width =\"300px\"  />\n",
        "</div>\n",
        "\n",
        "Consider that at the beginning we start a random walk at any node with the same probability:\n",
        "\n",
        "$$ \\pi⁰ = [1/5,1/5,1/5,1/5,1/5] $$\n",
        "\n",
        "What will happen after many steps of the random walk ? It seems like we should end with high probability at the central node $n0$.\n",
        "\n"
      ]
    },
    {
      "cell_type": "markdown",
      "metadata": {
        "collapsed": true,
        "jupyter": {
          "outputs_hidden": true
        },
        "id": "jZGgAjzVxwMZ"
      },
      "source": [
        "## Random Walk Example 1\n",
        "\n",
        "After one step, the probability to move to node $ni$ is updated as:\n",
        "\n",
        "$$ \\pi^1(i) = \\sum_{nodes \\ j \\ that \\ link \\ to \\ i} \\pi^0(j) \\frac{1}{odeg(j)}   $$\n",
        "\n",
        "where $odeg(j)$ is the number of **outgoing edges from node j**. Then:\n",
        "\n",
        "$$  \\pi^1 = [(1/5+1/5+1/5+1/5),0,0,0,0] $$\n",
        "\n",
        "Observe that we talk about the probability to move to a particular node, and because once we reach node $n0$ we will not move anymore, because this node has no \"outgoing\" edges, at this step the probability \"to move\" to node n0 is 4/5 (if we started at n0 at the beginning we did not move anymore at this step). This is the problem of what it is called \"dangling nodes\" (nodes that make the random walk to stop).\n",
        "\n",
        "But the relevant point here is that if we repeat these steps many times, the final probability values we get can be used as a measure of the \"relevance\" of that node, because that value indicates how likely is the event that we reach that node of the graph after many steps (assuming no dangling nodes are in the graph)."
      ]
    },
    {
      "cell_type": "markdown",
      "metadata": {
        "id": "jqHdmRkzxwMa"
      },
      "source": [
        "## Random Walk Example 2, no dangling nodes\n",
        "\n",
        "We can modify the example to make dissapear the problem of dangling nodes by make a self-loop in that node:\n",
        "\n",
        "<div>\n",
        "<img style=\"float: center;\" src=\"https://github.com/deinok/EXPLOTACIO-DE-DADES/blob/main/ASSIGNAMENT_1/graph2-s0.png?raw=1\" width =\"500px\"  />\n",
        "</div>\n",
        "\n",
        "\n",
        "Then, a random walk in this graph will never stop, and now the probability \"of being\" at the different nodes after 1 step is:\n",
        "\n",
        "$$  \\pi^1 = [1,0,0,0,0] $$\n",
        "\n",
        "Thanks to the fact that now node $n_0$ has a link to itself, so the formula for this node after one step is:\n",
        "\n",
        "\n",
        "$$  \\pi^1(0) = \\sum_{nodes \\ j \\ that \\ link \\ to \\ 0} \\pi^0(j) \\frac{1}{odeg(j)} = (1/5+1/5+1/5+1/5+1/5) = 1$$\n"
      ]
    },
    {
      "cell_type": "markdown",
      "metadata": {
        "id": "JsqQgpMUxwMa"
      },
      "source": [
        "So, it is clear that from this time updating the formula will not modify the probabilities any more:\n",
        "\n",
        "$$  \\pi^2(0) = \\sum_{nodes \\ j \\ that \\ link \\ to \\ 0} \\pi^1(j) \\frac{1}{odeg(j)} = (1+0/5+0/5+0/5+0/5) = 1$$\n",
        "\n",
        "and for any other node ni different from $n_0$:\n",
        "\n",
        "$$ i \\neq 0 \\rightarrow \\pi^2(i) = \\sum_{nodes \\ j \\ that \\ link \\ to \\ i} \\pi^1(j) \\frac{1}{deg(j)} = 0$$\n",
        "\n",
        "as the other nodes do not have any incoming links\n",
        "\n",
        "So, we say that we have reached an stationary distribution. And using the distribution as a way to \"rank\" the nodes, we can conclude that the most relevant node is the node  $n_0$."
      ]
    },
    {
      "cell_type": "markdown",
      "metadata": {
        "id": "hgH-DRx1xwMa"
      },
      "source": [
        "### Random Walk Example 3, no dangling nodes\n",
        "\n",
        "Ok, but in general graphs will have more links, and we will need to simulate \"more steps\" to reach an stable distribution. Consider this modified example:\n",
        "\n",
        "<div>\n",
        "<img style=\"center;\" src=\"https://github.com/deinok/EXPLOTACIO-DE-DADES/blob/main/ASSIGNAMENT_1/graph3-s0.png?raw=1\" width =\"500px\"  />\n",
        "</div>\n",
        "\n",
        "Initial distribution:\n",
        "$$ \\pi^{0} = [1/5,1/5,1/5,1/5,1/5] $$\n",
        "\n",
        "After first step:\n",
        "\n",
        "$$ \\pi^1 = [1/5*(1/2)+(4/5),1/5*(1/2),0,0,0] = [0.9,0.1,0,0,0] $$\n",
        "\n"
      ]
    },
    {
      "cell_type": "markdown",
      "metadata": {
        "id": "v9CgbOCMxwMa"
      },
      "source": [
        "After second step:\n",
        "\n",
        "$$ \\pi^2 = [0.9*(1/2)+0.1,0.9*(1/2),0,0,0] = [0.55,0.45,0,0,0] $$\n",
        "\n",
        "After third step:\n",
        "\n",
        "$$ \\pi^3 = [0.55*(1/2)+0.45,0.55*(1/2),0,0,0] = [0.725,0.275,0,0,0] $$\n",
        "\n",
        "After fourth step:\n",
        "\n",
        "$$ \\pi^4 = [0.725*(1/2)+0.275,0.725*(1/2),0,0,0] = [0.6375,0.3625,0,0,0] $$"
      ]
    },
    {
      "cell_type": "markdown",
      "metadata": {
        "id": "xiSEclroxwMb"
      },
      "source": [
        "After fith step:\n",
        "\n",
        "$$ \\pi^5 = [0.6375*(1/2)+0.3625,0.6375*(1/2),0,0,0] = [0.6812,0.3187,0,0,0] $$\n",
        "\n",
        "After sixth step:\n",
        "\n",
        "$$ \\pi^6= [0.6812*(1/2)+0.3187,0.6812*(1/2),0,0,0] = [0.6593,0.3406,0,0,0] $$\n",
        "\n",
        "...\n",
        "\n",
        "After 20th step:\n",
        "\n",
        "$$ \\pi^{20} = [0.6666,0.3333,0,0,0] $$\n",
        "\n",
        "So, in this modified example the rank is distributed among the first two vertices (but still the most relevant is the first one). But observe that we need some more iterations to reach the stable distribution!"
      ]
    },
    {
      "cell_type": "markdown",
      "metadata": {
        "tags": [],
        "id": "BhkfGdpXxwMb"
      },
      "source": [
        "# The PageRank Algorithm\n",
        "\n",
        "So, the PageRank algorithm for a directed graph with no dangling nodes is simply the iterated update of the previous equation that computes the probability of being on the different nodes after a random walk of many steps:\n",
        "\n",
        "At iteration t+1, the rank vector $\\pi^{t+1}$ is updated as:\n",
        "            \n",
        "$$  \\pi^{t+1}(i) = \\sum_{nodes \\ j \\ that \\ link \\ to \\ i} \\pi^t(j) \\frac{1}{odeg(j)}  $$\n",
        "\n",
        "When do we stop iterating ?\n",
        "- The best option would be to stop when we reach a point where the solution is almost stable (no significant changes from $ \\pi^t$ to $ \\pi^{t+1}$).\n",
        "- We can also use some maximum number of iterations."
      ]
    },
    {
      "cell_type": "markdown",
      "metadata": {
        "collapsed": true,
        "jupyter": {
          "outputs_hidden": true
        },
        "tags": [],
        "id": "yv112EhpxwMb"
      },
      "source": [
        "## High-level pseudo-code of the PageRank algorithm\n",
        "\n",
        ">LinksRDD = { (j, $[i_1,i_2,...,i_k]$)  | there is a link from j to $i_{l}$ }  \n",
        ">$\\pi^0$ := [1/n,1/n,...,1/n]  \n",
        ">RankRDD = { $(j,\\pi^0[j])$  |  for  all  the  nodes  j }  \n",
        ">t=0  \n",
        ">While ( *rank vector $\\pi^t$ not stable* ) do:\n",
        ">>// Join linksRDD with RankRDD to get pairs of the kind:  \n",
        ">>// { ( j , ( [i1,i2,...,ik], $\\pi^t[j]$ )) | for any node j }  \n",
        ">>LinksRankInfoRDD = LinksRDD.join( RankRDD )  \n",
        ">>// compute all the contributions from  node j to target node i  \n",
        ">>flatContRDD = $\\{ (i, \\pi^t(j) \\frac{1}{odeg(j)}  ) \\ | \\ for \\ any \\ edge \\ j\\rightarrow i \\} $  \n",
        ">>// Reduce all the elements with the same key i  \n",
        ">>// to get $ \\pi^{t+1}[i] = \\sum_{j \\ edge \\ to \\ i}  \\pi^t(j) \\frac{1}{odeg(j)} $  \n",
        ">>RankRDD = flatContRDD.ReduceByKey( x,y : x+y )  \n",
        ">>t=t+1"
      ]
    },
    {
      "cell_type": "markdown",
      "metadata": {
        "tags": [],
        "id": "4zgKvVI-xwMb"
      },
      "source": [
        "# PageRank Implementation in map-reduce\n",
        "\n",
        "To implement the algorithm with map-reduce, we need to mantain two main RDDs:\n",
        "1. The main one, **that will not change** (LinksRDD), represents the set of all the links $ j \\rightarrow i $ for any node j. That is, a suitable representation of the graph. We will using key,value records of this kind:\n",
        "    $$ (j, [i_1,i_2,...,i_k]) $$\n",
        "   that indicate that there is a link from node j to any node in the list\n",
        "2. The second one is the rank vector (RankRDD), that will be updated with a new one in each iteration (from the point of view of spark the RDD for $   \\pi^{t+1} $ will be created and the one for  $   \\pi^{t} $   will be eliminated)."
      ]
    },
    {
      "cell_type": "code",
      "execution_count": null,
      "metadata": {
        "tags": [],
        "id": "sDlBeUyTxwMb"
      },
      "outputs": [],
      "source": [
        "# Example 1, with a dangling node\n",
        "LinksRDD = sc.parallelize([(0, []), (1, [0]), (2, [0]), (3, [0]), (4, [0])])\n",
        "RankRDD = sc.parallelize([(0, 1/5), (1, 1/5), (2, 1/5), (3, 1/5), (4, 1/5)])"
      ]
    },
    {
      "cell_type": "code",
      "execution_count": null,
      "metadata": {
        "id": "0ftx3V6HxwMc"
      },
      "outputs": [],
      "source": [
        "# Example 2\n",
        "LinksRDD = sc.parallelize([(0, [0]), (1, [0]), (2, [0]), (3, [0]), (4, [0])])\n",
        "RankRDD = sc.parallelize([(0, 1/5), (1, 1/5), (2, 1/5), (3, 1/5), (4, 1/5)])"
      ]
    },
    {
      "cell_type": "code",
      "execution_count": null,
      "metadata": {
        "id": "cavOPuOuxwMc"
      },
      "outputs": [],
      "source": [
        "# Example 3\n",
        "LinksRDD = sc.parallelize([(0, [0, 1]), (1, [0]), (2, [0]), (3, [0]), (4, [0])])\n",
        "RankRDD = sc.parallelize([(0, 1/5), (1, 1/5), (2, 1/5), (3, 1/5), (4, 1/5)])"
      ]
    },
    {
      "cell_type": "code",
      "execution_count": null,
      "metadata": {
        "id": "UGsHBt1DxwMc"
      },
      "outputs": [],
      "source": [
        "# Example 4, two disconnected subgraphs\n",
        "LinksRDD = sc.parallelize([(0, [1]), (1, [2]), (2, [0]), (3, [4]), (4, [5]), (5, [3])])\n",
        "RankRDD = sc.parallelize([(0, 1/6), (1, 1/6), (2, 1/6), (3, 1/6), (4, 1/6), (5, 1/6)])"
      ]
    },
    {
      "cell_type": "markdown",
      "metadata": {
        "id": "nhlJJy_RxwMc"
      },
      "source": [
        "## Exercise, implement PageRank\n",
        "\n",
        "Implement PageRank using the next function to map a record of the type\n",
        "(j,  (list of nodes to which j points to, current rank of j))\n",
        "\n",
        "to a flat list of records of the type:\n",
        "\n",
        "( i, rank(j)/odeg(j) )\n",
        "\n",
        "where there is a node FROM j TO i"
      ]
    },
    {
      "cell_type": "code",
      "execution_count": null,
      "metadata": {
        "id": "FHslNqR2xwMc"
      },
      "outputs": [],
      "source": [
        "def getContributions(linksAndRank):\n",
        "    j = linksAndRank[0]\n",
        "    targets = linksAndRank[1][0]\n",
        "    rankj = linksAndRank[1][1]\n",
        "    odegj = float(len(targets))\n",
        "    # Iterate over all pages i with a link from j (j -> i)\n",
        "    return [ (i, rankj / odegj) for i in targets]"
      ]
    },
    {
      "cell_type": "code",
      "execution_count": null,
      "metadata": {
        "id": "bEPFRqNjxwMd",
        "outputId": "146d929c-54a6-451f-d2f8-22e29a54c205",
        "colab": {
          "base_uri": "https://localhost:8080/",
          "height": 651
        }
      },
      "outputs": [
        {
          "output_type": "stream",
          "name": "stdout",
          "text": [
            "time 0: [(0, 0.2), (1, 0.2), (2, 0.2), (3, 0.2), (4, 0.2)]\n",
            "time  1 : [(0, 0.8)]\n",
            "time  2 : []\n",
            "time  3 : []\n",
            "time  4 : []\n",
            "time  5 : []\n"
          ]
        },
        {
          "output_type": "stream",
          "name": "stderr",
          "text": [
            "ERROR:root:KeyboardInterrupt while sending command.\n",
            "Traceback (most recent call last):\n",
            "  File \"/usr/local/lib/python3.12/dist-packages/py4j/java_gateway.py\", line 1038, in send_command\n",
            "    response = connection.send_command(command)\n",
            "               ^^^^^^^^^^^^^^^^^^^^^^^^^^^^^^^^\n",
            "  File \"/usr/local/lib/python3.12/dist-packages/py4j/clientserver.py\", line 511, in send_command\n",
            "    answer = smart_decode(self.stream.readline()[:-1])\n",
            "                          ^^^^^^^^^^^^^^^^^^^^^^\n",
            "  File \"/usr/lib/python3.12/socket.py\", line 720, in readinto\n",
            "    return self._sock.recv_into(b)\n",
            "           ^^^^^^^^^^^^^^^^^^^^^^^\n",
            "KeyboardInterrupt\n"
          ]
        },
        {
          "output_type": "error",
          "ename": "KeyboardInterrupt",
          "evalue": "",
          "traceback": [
            "\u001b[0;31m---------------------------------------------------------------------------\u001b[0m",
            "\u001b[0;31mKeyboardInterrupt\u001b[0m                         Traceback (most recent call last)",
            "\u001b[0;32m/tmp/ipython-input-2902711274.py\u001b[0m in \u001b[0;36m<cell line: 0>\u001b[0;34m()\u001b[0m\n\u001b[1;32m      5\u001b[0m     \u001b[0mflatContributions\u001b[0m \u001b[0;34m=\u001b[0m \u001b[0mLinksRankInfo\u001b[0m\u001b[0;34m.\u001b[0m\u001b[0mflatMap\u001b[0m\u001b[0;34m(\u001b[0m\u001b[0mgetContributions\u001b[0m\u001b[0;34m)\u001b[0m\u001b[0;34m\u001b[0m\u001b[0;34m\u001b[0m\u001b[0m\n\u001b[1;32m      6\u001b[0m     \u001b[0mRankRDD\u001b[0m \u001b[0;34m=\u001b[0m \u001b[0mflatContributions\u001b[0m\u001b[0;34m.\u001b[0m\u001b[0mreduceByKey\u001b[0m\u001b[0;34m(\u001b[0m\u001b[0;32mlambda\u001b[0m \u001b[0mx\u001b[0m\u001b[0;34m,\u001b[0m \u001b[0my\u001b[0m \u001b[0;34m:\u001b[0m \u001b[0mx\u001b[0m \u001b[0;34m+\u001b[0m \u001b[0my\u001b[0m\u001b[0;34m)\u001b[0m\u001b[0;34m\u001b[0m\u001b[0;34m\u001b[0m\u001b[0m\n\u001b[0;32m----> 7\u001b[0;31m     \u001b[0mprint\u001b[0m \u001b[0;34m(\u001b[0m \u001b[0;34m\"time \"\u001b[0m\u001b[0;34m,\u001b[0m \u001b[0miter\u001b[0m\u001b[0;34m,\u001b[0m \u001b[0;34m\":\"\u001b[0m\u001b[0;34m,\u001b[0m \u001b[0mRankRDD\u001b[0m\u001b[0;34m.\u001b[0m\u001b[0mcollect\u001b[0m\u001b[0;34m(\u001b[0m\u001b[0;34m)\u001b[0m \u001b[0;34m)\u001b[0m\u001b[0;34m\u001b[0m\u001b[0;34m\u001b[0m\u001b[0m\n\u001b[0m\u001b[1;32m      8\u001b[0m     \u001b[0miter\u001b[0m \u001b[0;34m=\u001b[0m \u001b[0miter\u001b[0m \u001b[0;34m+\u001b[0m \u001b[0;36m1\u001b[0m\u001b[0;34m\u001b[0m\u001b[0;34m\u001b[0m\u001b[0m\n",
            "\u001b[0;32m/usr/local/lib/python3.12/dist-packages/pyspark/rdd.py\u001b[0m in \u001b[0;36mcollect\u001b[0;34m(self)\u001b[0m\n\u001b[1;32m   1831\u001b[0m         \u001b[0;32mwith\u001b[0m \u001b[0mSCCallSiteSync\u001b[0m\u001b[0;34m(\u001b[0m\u001b[0mself\u001b[0m\u001b[0;34m.\u001b[0m\u001b[0mcontext\u001b[0m\u001b[0;34m)\u001b[0m\u001b[0;34m:\u001b[0m\u001b[0;34m\u001b[0m\u001b[0;34m\u001b[0m\u001b[0m\n\u001b[1;32m   1832\u001b[0m             \u001b[0;32massert\u001b[0m \u001b[0mself\u001b[0m\u001b[0;34m.\u001b[0m\u001b[0mctx\u001b[0m\u001b[0;34m.\u001b[0m\u001b[0m_jvm\u001b[0m \u001b[0;32mis\u001b[0m \u001b[0;32mnot\u001b[0m \u001b[0;32mNone\u001b[0m\u001b[0;34m\u001b[0m\u001b[0;34m\u001b[0m\u001b[0m\n\u001b[0;32m-> 1833\u001b[0;31m             \u001b[0msock_info\u001b[0m \u001b[0;34m=\u001b[0m \u001b[0mself\u001b[0m\u001b[0;34m.\u001b[0m\u001b[0mctx\u001b[0m\u001b[0;34m.\u001b[0m\u001b[0m_jvm\u001b[0m\u001b[0;34m.\u001b[0m\u001b[0mPythonRDD\u001b[0m\u001b[0;34m.\u001b[0m\u001b[0mcollectAndServe\u001b[0m\u001b[0;34m(\u001b[0m\u001b[0mself\u001b[0m\u001b[0;34m.\u001b[0m\u001b[0m_jrdd\u001b[0m\u001b[0;34m.\u001b[0m\u001b[0mrdd\u001b[0m\u001b[0;34m(\u001b[0m\u001b[0;34m)\u001b[0m\u001b[0;34m)\u001b[0m\u001b[0;34m\u001b[0m\u001b[0;34m\u001b[0m\u001b[0m\n\u001b[0m\u001b[1;32m   1834\u001b[0m         \u001b[0;32mreturn\u001b[0m \u001b[0mlist\u001b[0m\u001b[0;34m(\u001b[0m\u001b[0m_load_from_socket\u001b[0m\u001b[0;34m(\u001b[0m\u001b[0msock_info\u001b[0m\u001b[0;34m,\u001b[0m \u001b[0mself\u001b[0m\u001b[0;34m.\u001b[0m\u001b[0m_jrdd_deserializer\u001b[0m\u001b[0;34m)\u001b[0m\u001b[0;34m)\u001b[0m\u001b[0;34m\u001b[0m\u001b[0;34m\u001b[0m\u001b[0m\n\u001b[1;32m   1835\u001b[0m \u001b[0;34m\u001b[0m\u001b[0m\n",
            "\u001b[0;32m/usr/local/lib/python3.12/dist-packages/py4j/java_gateway.py\u001b[0m in \u001b[0;36m__call__\u001b[0;34m(self, *args)\u001b[0m\n\u001b[1;32m   1319\u001b[0m             \u001b[0mproto\u001b[0m\u001b[0;34m.\u001b[0m\u001b[0mEND_COMMAND_PART\u001b[0m\u001b[0;34m\u001b[0m\u001b[0;34m\u001b[0m\u001b[0m\n\u001b[1;32m   1320\u001b[0m \u001b[0;34m\u001b[0m\u001b[0m\n\u001b[0;32m-> 1321\u001b[0;31m         \u001b[0manswer\u001b[0m \u001b[0;34m=\u001b[0m \u001b[0mself\u001b[0m\u001b[0;34m.\u001b[0m\u001b[0mgateway_client\u001b[0m\u001b[0;34m.\u001b[0m\u001b[0msend_command\u001b[0m\u001b[0;34m(\u001b[0m\u001b[0mcommand\u001b[0m\u001b[0;34m)\u001b[0m\u001b[0;34m\u001b[0m\u001b[0;34m\u001b[0m\u001b[0m\n\u001b[0m\u001b[1;32m   1322\u001b[0m         return_value = get_return_value(\n\u001b[1;32m   1323\u001b[0m             answer, self.gateway_client, self.target_id, self.name)\n",
            "\u001b[0;32m/usr/local/lib/python3.12/dist-packages/py4j/java_gateway.py\u001b[0m in \u001b[0;36msend_command\u001b[0;34m(self, command, retry, binary)\u001b[0m\n\u001b[1;32m   1036\u001b[0m         \u001b[0mconnection\u001b[0m \u001b[0;34m=\u001b[0m \u001b[0mself\u001b[0m\u001b[0;34m.\u001b[0m\u001b[0m_get_connection\u001b[0m\u001b[0;34m(\u001b[0m\u001b[0;34m)\u001b[0m\u001b[0;34m\u001b[0m\u001b[0;34m\u001b[0m\u001b[0m\n\u001b[1;32m   1037\u001b[0m         \u001b[0;32mtry\u001b[0m\u001b[0;34m:\u001b[0m\u001b[0;34m\u001b[0m\u001b[0;34m\u001b[0m\u001b[0m\n\u001b[0;32m-> 1038\u001b[0;31m             \u001b[0mresponse\u001b[0m \u001b[0;34m=\u001b[0m \u001b[0mconnection\u001b[0m\u001b[0;34m.\u001b[0m\u001b[0msend_command\u001b[0m\u001b[0;34m(\u001b[0m\u001b[0mcommand\u001b[0m\u001b[0;34m)\u001b[0m\u001b[0;34m\u001b[0m\u001b[0;34m\u001b[0m\u001b[0m\n\u001b[0m\u001b[1;32m   1039\u001b[0m             \u001b[0;32mif\u001b[0m \u001b[0mbinary\u001b[0m\u001b[0;34m:\u001b[0m\u001b[0;34m\u001b[0m\u001b[0;34m\u001b[0m\u001b[0m\n\u001b[1;32m   1040\u001b[0m                 \u001b[0;32mreturn\u001b[0m \u001b[0mresponse\u001b[0m\u001b[0;34m,\u001b[0m \u001b[0mself\u001b[0m\u001b[0;34m.\u001b[0m\u001b[0m_create_connection_guard\u001b[0m\u001b[0;34m(\u001b[0m\u001b[0mconnection\u001b[0m\u001b[0;34m)\u001b[0m\u001b[0;34m\u001b[0m\u001b[0;34m\u001b[0m\u001b[0m\n",
            "\u001b[0;32m/usr/local/lib/python3.12/dist-packages/py4j/clientserver.py\u001b[0m in \u001b[0;36msend_command\u001b[0;34m(self, command)\u001b[0m\n\u001b[1;32m    509\u001b[0m         \u001b[0;32mtry\u001b[0m\u001b[0;34m:\u001b[0m\u001b[0;34m\u001b[0m\u001b[0;34m\u001b[0m\u001b[0m\n\u001b[1;32m    510\u001b[0m             \u001b[0;32mwhile\u001b[0m \u001b[0;32mTrue\u001b[0m\u001b[0;34m:\u001b[0m\u001b[0;34m\u001b[0m\u001b[0;34m\u001b[0m\u001b[0m\n\u001b[0;32m--> 511\u001b[0;31m                 \u001b[0manswer\u001b[0m \u001b[0;34m=\u001b[0m \u001b[0msmart_decode\u001b[0m\u001b[0;34m(\u001b[0m\u001b[0mself\u001b[0m\u001b[0;34m.\u001b[0m\u001b[0mstream\u001b[0m\u001b[0;34m.\u001b[0m\u001b[0mreadline\u001b[0m\u001b[0;34m(\u001b[0m\u001b[0;34m)\u001b[0m\u001b[0;34m[\u001b[0m\u001b[0;34m:\u001b[0m\u001b[0;34m-\u001b[0m\u001b[0;36m1\u001b[0m\u001b[0;34m]\u001b[0m\u001b[0;34m)\u001b[0m\u001b[0;34m\u001b[0m\u001b[0;34m\u001b[0m\u001b[0m\n\u001b[0m\u001b[1;32m    512\u001b[0m                 \u001b[0mlogger\u001b[0m\u001b[0;34m.\u001b[0m\u001b[0mdebug\u001b[0m\u001b[0;34m(\u001b[0m\u001b[0;34m\"Answer received: {0}\"\u001b[0m\u001b[0;34m.\u001b[0m\u001b[0mformat\u001b[0m\u001b[0;34m(\u001b[0m\u001b[0manswer\u001b[0m\u001b[0;34m)\u001b[0m\u001b[0;34m)\u001b[0m\u001b[0;34m\u001b[0m\u001b[0;34m\u001b[0m\u001b[0m\n\u001b[1;32m    513\u001b[0m                 \u001b[0;31m# Happens when a the other end is dead. There might be an empty\u001b[0m\u001b[0;34m\u001b[0m\u001b[0;34m\u001b[0m\u001b[0m\n",
            "\u001b[0;32m/usr/lib/python3.12/socket.py\u001b[0m in \u001b[0;36mreadinto\u001b[0;34m(self, b)\u001b[0m\n\u001b[1;32m    718\u001b[0m         \u001b[0;32mwhile\u001b[0m \u001b[0;32mTrue\u001b[0m\u001b[0;34m:\u001b[0m\u001b[0;34m\u001b[0m\u001b[0;34m\u001b[0m\u001b[0m\n\u001b[1;32m    719\u001b[0m             \u001b[0;32mtry\u001b[0m\u001b[0;34m:\u001b[0m\u001b[0;34m\u001b[0m\u001b[0;34m\u001b[0m\u001b[0m\n\u001b[0;32m--> 720\u001b[0;31m                 \u001b[0;32mreturn\u001b[0m \u001b[0mself\u001b[0m\u001b[0;34m.\u001b[0m\u001b[0m_sock\u001b[0m\u001b[0;34m.\u001b[0m\u001b[0mrecv_into\u001b[0m\u001b[0;34m(\u001b[0m\u001b[0mb\u001b[0m\u001b[0;34m)\u001b[0m\u001b[0;34m\u001b[0m\u001b[0;34m\u001b[0m\u001b[0m\n\u001b[0m\u001b[1;32m    721\u001b[0m             \u001b[0;32mexcept\u001b[0m \u001b[0mtimeout\u001b[0m\u001b[0;34m:\u001b[0m\u001b[0;34m\u001b[0m\u001b[0;34m\u001b[0m\u001b[0m\n\u001b[1;32m    722\u001b[0m                 \u001b[0mself\u001b[0m\u001b[0;34m.\u001b[0m\u001b[0m_timeout_occurred\u001b[0m \u001b[0;34m=\u001b[0m \u001b[0;32mTrue\u001b[0m\u001b[0;34m\u001b[0m\u001b[0;34m\u001b[0m\u001b[0m\n",
            "\u001b[0;31mKeyboardInterrupt\u001b[0m: "
          ]
        }
      ],
      "source": [
        "print (\"time 0:\", RankRDD.collect())\n",
        "iter = 1\n",
        "while (iter <= 10):\n",
        "    LinksRankInfo = LinksRDD.join(RankRDD)\n",
        "    flatContributions = LinksRankInfo.flatMap(getContributions)\n",
        "    RankRDD = flatContributions.reduceByKey(lambda x, y : x + y)\n",
        "    print ( \"time \", iter, \":\", RankRDD.collect() )\n",
        "    iter = iter + 1"
      ]
    },
    {
      "cell_type": "markdown",
      "source": [
        "# ASSIGNAMENT 1"
      ],
      "metadata": {
        "id": "_R9v-c6tzQgM"
      }
    },
    {
      "cell_type": "markdown",
      "source": [
        "## STEP 1\n",
        "You must implement in the right way the PageRank algorithm, and include plenty of explanatory comments in each step of your functions. But you must implement the version actually introduced by google, that considers a \"damping\" factor. This time, at each step with probability d the random walk proceeds in the regular way, but with probability (1-d) you jump randomly to any node of the graph. In that case, the update equation at time t+1 is equal to:\n",
        "πt+1(i)=1−dN+d⋅(∑nodes j that link to iπt(j)1odeg(j))"
      ],
      "metadata": {
        "id": "knjNclOTztF2"
      }
    },
    {
      "cell_type": "code",
      "source": [
        "def getContributionsWithDamping(linksAndRank):\n",
        "  j = linksAndRank[0]\n",
        "  targets = linksAndRank[1][0]\n",
        "  rankj = linksAndRank[1][1]\n",
        "  odegj = float(len(targets))\n",
        "  # Iterate over all pages i with a link from j (j -> i)\n",
        "  if odegj == 0: return []\n",
        "  return [ (i, rankj / odegj) for i in targets]\n",
        "\n",
        "def compute_pagerank(LinksRDD: pyspark.rdd.RDD, d=0.85, max_iter=10):\n",
        "  print(\"LinksRDD:\", LinksRDD.collect())\n",
        "\n",
        "  # Set of all nodes (ensures nodes with no in-links still get a rank)\n",
        "  NodesRDD = LinksRDD.keys() \\\n",
        "    .distinct()\n",
        "\n",
        "  # N = number of nodes\n",
        "  N = NodesRDD.count()\n",
        "\n",
        "  # If no numbers exist, early return\n",
        "  if N == 0:\n",
        "    return LinksRDD.context.parallelize([])\n",
        "\n",
        "  # Uniform initialization: sum(ranks) = 1\n",
        "  RankRDD = NodesRDD \\\n",
        "    .map(lambda i: (i, 1.0 / N))\n",
        "\n",
        "  print(\"time 0:\", RankRDD.collect())\n",
        "  iter = 1\n",
        "  while (iter <= max_iter):\n",
        "    # Join LinksRDD wit RankRDD to get pairs of the same kind\n",
        "    LinksRankInfo = LinksRDD.join(RankRDD)\n",
        "\n",
        "    # Distribute the rank of each page to its outgoing links\n",
        "    flatContributions = LinksRankInfo \\\n",
        "      .flatMap(getContributionsWithDamping)\n",
        "\n",
        "    # Calculate the sum of contributions for each node\n",
        "    sumContributions = flatContributions \\\n",
        "      .reduceByKey(lambda x, y : x + y)\n",
        "\n",
        "    # Apply the damping factor\n",
        "    RankRDD = sumContributions \\\n",
        "      .mapValues(lambda x: ((1 - d) / N) + (d * x))\n",
        "\n",
        "    print(\"time \", iter, \":\", RankRDD.collect())\n",
        "    iter = iter + 1\n",
        "  return RankRDD"
      ],
      "metadata": {
        "id": "PN8fiTqBzU-u"
      },
      "execution_count": null,
      "outputs": []
    },
    {
      "cell_type": "code",
      "source": [
        "RankRDD = compute_pagerank(LinksRDD, d=0.85, max_iter=10)\n"
      ],
      "metadata": {
        "id": "jIqu_XPDzcOF",
        "outputId": "9f89599a-c224-4f13-82e5-847e5093b915",
        "colab": {
          "base_uri": "https://localhost:8080/",
          "height": 616
        }
      },
      "execution_count": null,
      "outputs": [
        {
          "output_type": "stream",
          "name": "stdout",
          "text": [
            "LinksRDD: [(0, []), (1, [0]), (2, [0]), (3, [0]), (4, [0])]\n",
            "time 0: [(0, 0.2), (2, 0.2), (4, 0.2), (1, 0.2), (3, 0.2)]\n",
            "time  1 : [(0, 0.7100000000000001)]\n",
            "time  2 : []\n",
            "time  3 : []\n",
            "time  4 : []\n",
            "time  5 : []\n"
          ]
        },
        {
          "output_type": "stream",
          "name": "stderr",
          "text": [
            "ERROR:root:KeyboardInterrupt while sending command.\n",
            "Traceback (most recent call last):\n",
            "  File \"/usr/local/lib/python3.12/dist-packages/py4j/java_gateway.py\", line 1038, in send_command\n",
            "    response = connection.send_command(command)\n",
            "               ^^^^^^^^^^^^^^^^^^^^^^^^^^^^^^^^\n",
            "  File \"/usr/local/lib/python3.12/dist-packages/py4j/clientserver.py\", line 511, in send_command\n",
            "    answer = smart_decode(self.stream.readline()[:-1])\n",
            "                          ^^^^^^^^^^^^^^^^^^^^^^\n",
            "  File \"/usr/lib/python3.12/socket.py\", line 720, in readinto\n",
            "    return self._sock.recv_into(b)\n",
            "           ^^^^^^^^^^^^^^^^^^^^^^^\n",
            "KeyboardInterrupt\n"
          ]
        },
        {
          "output_type": "error",
          "ename": "KeyboardInterrupt",
          "evalue": "",
          "traceback": [
            "\u001b[0;31m---------------------------------------------------------------------------\u001b[0m",
            "\u001b[0;31mKeyboardInterrupt\u001b[0m                         Traceback (most recent call last)",
            "\u001b[0;32m/tmp/ipython-input-3088745971.py\u001b[0m in \u001b[0;36m<cell line: 0>\u001b[0;34m()\u001b[0m\n\u001b[0;32m----> 1\u001b[0;31m \u001b[0mRankRDD\u001b[0m \u001b[0;34m=\u001b[0m \u001b[0mcompute_pagerank\u001b[0m\u001b[0;34m(\u001b[0m\u001b[0mLinksRDD\u001b[0m\u001b[0;34m,\u001b[0m \u001b[0md\u001b[0m\u001b[0;34m=\u001b[0m\u001b[0;36m0.85\u001b[0m\u001b[0;34m,\u001b[0m \u001b[0mmax_iter\u001b[0m\u001b[0;34m=\u001b[0m\u001b[0;36m10\u001b[0m\u001b[0;34m)\u001b[0m\u001b[0;34m\u001b[0m\u001b[0;34m\u001b[0m\u001b[0m\n\u001b[0m",
            "\u001b[0;32m/tmp/ipython-input-3121888216.py\u001b[0m in \u001b[0;36mcompute_pagerank\u001b[0;34m(LinksRDD, d, max_iter)\u001b[0m\n\u001b[1;32m     40\u001b[0m         \u001b[0;34m.\u001b[0m\u001b[0mmapValues\u001b[0m\u001b[0;34m(\u001b[0m\u001b[0;32mlambda\u001b[0m \u001b[0mx\u001b[0m\u001b[0;34m:\u001b[0m \u001b[0;34m(\u001b[0m\u001b[0;34m(\u001b[0m\u001b[0;36m1\u001b[0m \u001b[0;34m-\u001b[0m \u001b[0md\u001b[0m\u001b[0;34m)\u001b[0m \u001b[0;34m/\u001b[0m \u001b[0mN\u001b[0m\u001b[0;34m)\u001b[0m \u001b[0;34m+\u001b[0m \u001b[0;34m(\u001b[0m\u001b[0md\u001b[0m \u001b[0;34m*\u001b[0m \u001b[0mx\u001b[0m\u001b[0;34m)\u001b[0m\u001b[0;34m)\u001b[0m\u001b[0;34m\u001b[0m\u001b[0;34m\u001b[0m\u001b[0m\n\u001b[1;32m     41\u001b[0m \u001b[0;34m\u001b[0m\u001b[0m\n\u001b[0;32m---> 42\u001b[0;31m       \u001b[0mprint\u001b[0m\u001b[0;34m(\u001b[0m\u001b[0;34m\"time \"\u001b[0m\u001b[0;34m,\u001b[0m \u001b[0miter\u001b[0m\u001b[0;34m,\u001b[0m \u001b[0;34m\":\"\u001b[0m\u001b[0;34m,\u001b[0m \u001b[0mRankRDD\u001b[0m\u001b[0;34m.\u001b[0m\u001b[0mcollect\u001b[0m\u001b[0;34m(\u001b[0m\u001b[0;34m)\u001b[0m\u001b[0;34m)\u001b[0m\u001b[0;34m\u001b[0m\u001b[0;34m\u001b[0m\u001b[0m\n\u001b[0m\u001b[1;32m     43\u001b[0m       \u001b[0miter\u001b[0m \u001b[0;34m=\u001b[0m \u001b[0miter\u001b[0m \u001b[0;34m+\u001b[0m \u001b[0;36m1\u001b[0m\u001b[0;34m\u001b[0m\u001b[0;34m\u001b[0m\u001b[0m\n\u001b[1;32m     44\u001b[0m   \u001b[0;32mreturn\u001b[0m \u001b[0mRankRDD\u001b[0m\u001b[0;34m\u001b[0m\u001b[0;34m\u001b[0m\u001b[0m\n",
            "\u001b[0;32m/usr/local/lib/python3.12/dist-packages/pyspark/rdd.py\u001b[0m in \u001b[0;36mcollect\u001b[0;34m(self)\u001b[0m\n\u001b[1;32m   1831\u001b[0m         \u001b[0;32mwith\u001b[0m \u001b[0mSCCallSiteSync\u001b[0m\u001b[0;34m(\u001b[0m\u001b[0mself\u001b[0m\u001b[0;34m.\u001b[0m\u001b[0mcontext\u001b[0m\u001b[0;34m)\u001b[0m\u001b[0;34m:\u001b[0m\u001b[0;34m\u001b[0m\u001b[0;34m\u001b[0m\u001b[0m\n\u001b[1;32m   1832\u001b[0m             \u001b[0;32massert\u001b[0m \u001b[0mself\u001b[0m\u001b[0;34m.\u001b[0m\u001b[0mctx\u001b[0m\u001b[0;34m.\u001b[0m\u001b[0m_jvm\u001b[0m \u001b[0;32mis\u001b[0m \u001b[0;32mnot\u001b[0m \u001b[0;32mNone\u001b[0m\u001b[0;34m\u001b[0m\u001b[0;34m\u001b[0m\u001b[0m\n\u001b[0;32m-> 1833\u001b[0;31m             \u001b[0msock_info\u001b[0m \u001b[0;34m=\u001b[0m \u001b[0mself\u001b[0m\u001b[0;34m.\u001b[0m\u001b[0mctx\u001b[0m\u001b[0;34m.\u001b[0m\u001b[0m_jvm\u001b[0m\u001b[0;34m.\u001b[0m\u001b[0mPythonRDD\u001b[0m\u001b[0;34m.\u001b[0m\u001b[0mcollectAndServe\u001b[0m\u001b[0;34m(\u001b[0m\u001b[0mself\u001b[0m\u001b[0;34m.\u001b[0m\u001b[0m_jrdd\u001b[0m\u001b[0;34m.\u001b[0m\u001b[0mrdd\u001b[0m\u001b[0;34m(\u001b[0m\u001b[0;34m)\u001b[0m\u001b[0;34m)\u001b[0m\u001b[0;34m\u001b[0m\u001b[0;34m\u001b[0m\u001b[0m\n\u001b[0m\u001b[1;32m   1834\u001b[0m         \u001b[0;32mreturn\u001b[0m \u001b[0mlist\u001b[0m\u001b[0;34m(\u001b[0m\u001b[0m_load_from_socket\u001b[0m\u001b[0;34m(\u001b[0m\u001b[0msock_info\u001b[0m\u001b[0;34m,\u001b[0m \u001b[0mself\u001b[0m\u001b[0;34m.\u001b[0m\u001b[0m_jrdd_deserializer\u001b[0m\u001b[0;34m)\u001b[0m\u001b[0;34m)\u001b[0m\u001b[0;34m\u001b[0m\u001b[0;34m\u001b[0m\u001b[0m\n\u001b[1;32m   1835\u001b[0m \u001b[0;34m\u001b[0m\u001b[0m\n",
            "\u001b[0;32m/usr/local/lib/python3.12/dist-packages/py4j/java_gateway.py\u001b[0m in \u001b[0;36m__call__\u001b[0;34m(self, *args)\u001b[0m\n\u001b[1;32m   1319\u001b[0m             \u001b[0mproto\u001b[0m\u001b[0;34m.\u001b[0m\u001b[0mEND_COMMAND_PART\u001b[0m\u001b[0;34m\u001b[0m\u001b[0;34m\u001b[0m\u001b[0m\n\u001b[1;32m   1320\u001b[0m \u001b[0;34m\u001b[0m\u001b[0m\n\u001b[0;32m-> 1321\u001b[0;31m         \u001b[0manswer\u001b[0m \u001b[0;34m=\u001b[0m \u001b[0mself\u001b[0m\u001b[0;34m.\u001b[0m\u001b[0mgateway_client\u001b[0m\u001b[0;34m.\u001b[0m\u001b[0msend_command\u001b[0m\u001b[0;34m(\u001b[0m\u001b[0mcommand\u001b[0m\u001b[0;34m)\u001b[0m\u001b[0;34m\u001b[0m\u001b[0;34m\u001b[0m\u001b[0m\n\u001b[0m\u001b[1;32m   1322\u001b[0m         return_value = get_return_value(\n\u001b[1;32m   1323\u001b[0m             answer, self.gateway_client, self.target_id, self.name)\n",
            "\u001b[0;32m/usr/local/lib/python3.12/dist-packages/py4j/java_gateway.py\u001b[0m in \u001b[0;36msend_command\u001b[0;34m(self, command, retry, binary)\u001b[0m\n\u001b[1;32m   1036\u001b[0m         \u001b[0mconnection\u001b[0m \u001b[0;34m=\u001b[0m \u001b[0mself\u001b[0m\u001b[0;34m.\u001b[0m\u001b[0m_get_connection\u001b[0m\u001b[0;34m(\u001b[0m\u001b[0;34m)\u001b[0m\u001b[0;34m\u001b[0m\u001b[0;34m\u001b[0m\u001b[0m\n\u001b[1;32m   1037\u001b[0m         \u001b[0;32mtry\u001b[0m\u001b[0;34m:\u001b[0m\u001b[0;34m\u001b[0m\u001b[0;34m\u001b[0m\u001b[0m\n\u001b[0;32m-> 1038\u001b[0;31m             \u001b[0mresponse\u001b[0m \u001b[0;34m=\u001b[0m \u001b[0mconnection\u001b[0m\u001b[0;34m.\u001b[0m\u001b[0msend_command\u001b[0m\u001b[0;34m(\u001b[0m\u001b[0mcommand\u001b[0m\u001b[0;34m)\u001b[0m\u001b[0;34m\u001b[0m\u001b[0;34m\u001b[0m\u001b[0m\n\u001b[0m\u001b[1;32m   1039\u001b[0m             \u001b[0;32mif\u001b[0m \u001b[0mbinary\u001b[0m\u001b[0;34m:\u001b[0m\u001b[0;34m\u001b[0m\u001b[0;34m\u001b[0m\u001b[0m\n\u001b[1;32m   1040\u001b[0m                 \u001b[0;32mreturn\u001b[0m \u001b[0mresponse\u001b[0m\u001b[0;34m,\u001b[0m \u001b[0mself\u001b[0m\u001b[0;34m.\u001b[0m\u001b[0m_create_connection_guard\u001b[0m\u001b[0;34m(\u001b[0m\u001b[0mconnection\u001b[0m\u001b[0;34m)\u001b[0m\u001b[0;34m\u001b[0m\u001b[0;34m\u001b[0m\u001b[0m\n",
            "\u001b[0;32m/usr/local/lib/python3.12/dist-packages/py4j/clientserver.py\u001b[0m in \u001b[0;36msend_command\u001b[0;34m(self, command)\u001b[0m\n\u001b[1;32m    509\u001b[0m         \u001b[0;32mtry\u001b[0m\u001b[0;34m:\u001b[0m\u001b[0;34m\u001b[0m\u001b[0;34m\u001b[0m\u001b[0m\n\u001b[1;32m    510\u001b[0m             \u001b[0;32mwhile\u001b[0m \u001b[0;32mTrue\u001b[0m\u001b[0;34m:\u001b[0m\u001b[0;34m\u001b[0m\u001b[0;34m\u001b[0m\u001b[0m\n\u001b[0;32m--> 511\u001b[0;31m                 \u001b[0manswer\u001b[0m \u001b[0;34m=\u001b[0m \u001b[0msmart_decode\u001b[0m\u001b[0;34m(\u001b[0m\u001b[0mself\u001b[0m\u001b[0;34m.\u001b[0m\u001b[0mstream\u001b[0m\u001b[0;34m.\u001b[0m\u001b[0mreadline\u001b[0m\u001b[0;34m(\u001b[0m\u001b[0;34m)\u001b[0m\u001b[0;34m[\u001b[0m\u001b[0;34m:\u001b[0m\u001b[0;34m-\u001b[0m\u001b[0;36m1\u001b[0m\u001b[0;34m]\u001b[0m\u001b[0;34m)\u001b[0m\u001b[0;34m\u001b[0m\u001b[0;34m\u001b[0m\u001b[0m\n\u001b[0m\u001b[1;32m    512\u001b[0m                 \u001b[0mlogger\u001b[0m\u001b[0;34m.\u001b[0m\u001b[0mdebug\u001b[0m\u001b[0;34m(\u001b[0m\u001b[0;34m\"Answer received: {0}\"\u001b[0m\u001b[0;34m.\u001b[0m\u001b[0mformat\u001b[0m\u001b[0;34m(\u001b[0m\u001b[0manswer\u001b[0m\u001b[0;34m)\u001b[0m\u001b[0;34m)\u001b[0m\u001b[0;34m\u001b[0m\u001b[0;34m\u001b[0m\u001b[0m\n\u001b[1;32m    513\u001b[0m                 \u001b[0;31m# Happens when a the other end is dead. There might be an empty\u001b[0m\u001b[0;34m\u001b[0m\u001b[0;34m\u001b[0m\u001b[0m\n",
            "\u001b[0;32m/usr/lib/python3.12/socket.py\u001b[0m in \u001b[0;36mreadinto\u001b[0;34m(self, b)\u001b[0m\n\u001b[1;32m    718\u001b[0m         \u001b[0;32mwhile\u001b[0m \u001b[0;32mTrue\u001b[0m\u001b[0;34m:\u001b[0m\u001b[0;34m\u001b[0m\u001b[0;34m\u001b[0m\u001b[0m\n\u001b[1;32m    719\u001b[0m             \u001b[0;32mtry\u001b[0m\u001b[0;34m:\u001b[0m\u001b[0;34m\u001b[0m\u001b[0;34m\u001b[0m\u001b[0m\n\u001b[0;32m--> 720\u001b[0;31m                 \u001b[0;32mreturn\u001b[0m \u001b[0mself\u001b[0m\u001b[0;34m.\u001b[0m\u001b[0m_sock\u001b[0m\u001b[0;34m.\u001b[0m\u001b[0mrecv_into\u001b[0m\u001b[0;34m(\u001b[0m\u001b[0mb\u001b[0m\u001b[0;34m)\u001b[0m\u001b[0;34m\u001b[0m\u001b[0;34m\u001b[0m\u001b[0m\n\u001b[0m\u001b[1;32m    721\u001b[0m             \u001b[0;32mexcept\u001b[0m \u001b[0mtimeout\u001b[0m\u001b[0;34m:\u001b[0m\u001b[0;34m\u001b[0m\u001b[0;34m\u001b[0m\u001b[0m\n\u001b[1;32m    722\u001b[0m                 \u001b[0mself\u001b[0m\u001b[0;34m.\u001b[0m\u001b[0m_timeout_occurred\u001b[0m \u001b[0;34m=\u001b[0m \u001b[0;32mTrue\u001b[0m\u001b[0;34m\u001b[0m\u001b[0;34m\u001b[0m\u001b[0m\n",
            "\u001b[0;31mKeyboardInterrupt\u001b[0m: "
          ]
        }
      ]
    },
    {
      "cell_type": "markdown",
      "source": [
        "## STEP 2\n",
        "You must load the data of the algorithm in RDDs (or spark dataframes if you prefer) by implementing a function that takes the jsonl files as input, and then it creates in a distributed way (with spark transformations) three distributed datasets: LinksRDD, namesRDD, and initial RankRDD, that are needed by your pagerank algorithm. The namesRDD shoud be a dataset of (key,value) pairs, where each key is a vertex integer identifier and the value is the corresponding name of the researcher."
      ],
      "metadata": {
        "id": "IeLibJK69a0Q"
      }
    },
    {
      "cell_type": "code",
      "source": [
        "import json\n",
        "\n",
        "namesRDD = sc.textFile(\"netscience-v.jsonl\") \\\n",
        "  .map(lambda x: json.loads(x)) \\\n",
        "  .flatMap(lambda x: [(v, k) for k, v in x.items()])\n",
        "print(namesRDD.collect())"
      ],
      "metadata": {
        "colab": {
          "base_uri": "https://localhost:8080/"
        },
        "id": "zzvmA-xb9x9f",
        "outputId": "6ca8c4a5-d1d3-41c1-f4fb-b13b69c2e82c"
      },
      "execution_count": 20,
      "outputs": [
        {
          "output_type": "stream",
          "name": "stdout",
          "text": [
            "[(1, 'ABRAMSON, G'), (2, 'KUPERMAN, M'), (3, 'ACEBRON, J'), (4, 'BONILLA, L'), (5, 'PEREZVICENTE, C'), (6, 'RITORT, F'), (7, 'SPIGLER, R'), (8, 'ADAMIC, L'), (9, 'ADAR, E'), (10, 'HUBERMAN, B'), (11, 'LUKOSE, R'), (12, 'PUNIYANI, A'), (13, 'AERTSEN, A'), (14, 'GERSTEIN, G'), (15, 'HABIB, M'), (16, 'PALM, G'), (17, 'AFRAIMOVICH, V'), (18, 'VERICHEV, N'), (19, 'RABINOVICH, M'), (20, 'AGRAWAL, H'), (21, 'AHUJA, R'), (22, 'MAGNANTI, T'), (23, 'ORLIN, J'), (24, 'AIELLO, W'), (25, 'CHUNG, F'), (26, 'LU, L'), (27, 'ALBA, R'), (28, 'ALBERICH, R'), (29, 'MIROJULIA, J'), (30, 'ROSSELLO, F'), (31, 'ALBERT, R'), (32, 'ALBERT, I'), (33, 'NAKARADO, G'), (34, 'BARABASI, A'), (35, 'JEONG, H'), (36, 'ALBERTS, B'), (37, 'BRAY, D'), (38, 'LEWIS, J'), (39, 'RAFF, M'), (40, 'ROBERTS, K'), (41, 'WATSON, J'), (42, 'ALDANA, M'), (43, 'ALDOUS, D'), (44, 'PITTEL, B'), (45, 'ALEKSIEJUK, A'), (46, 'HOLYST, J'), (47, 'STAUFFER, D'), (48, 'ALLARIA, E'), (49, 'ARECCHI, F'), (50, 'DIGARBO, A'), (51, 'MEUCCI, R'), (52, 'ALMAAS, E'), (53, 'KOVACS, B'), (54, 'VICSEK, T'), (55, 'OLTVAI, Z'), (56, 'KRAPIVSKY, P'), (57, 'REDNER, S'), (58, 'KULKARNI, R'), (59, 'STROUD, D'), (60, 'ALON, N'), (61, 'YUSTER, R'), (62, 'ZWICK, U'), (63, 'ALON, U'), (64, 'SURETTE, M'), (65, 'BARKAI, N'), (66, 'LEIBER, S'), (67, 'ALTER, O'), (68, 'BROWN, P'), (69, 'BOTSTEIN, D'), (70, 'AMARAL, L'), (71, 'SCALA, A'), (72, 'BARTHELEMY, M'), (73, 'STANLEY, H'), (74, 'AMENGUAL, A'), (75, 'HERNANDEZGARCIA, E'), (76, 'MONTAGNE, R'), (77, 'SANMIGUEL, M'), (78, 'ANCELMEYERS, L'), (79, 'NEWMAN, M'), (80, 'MARTIN, M'), (81, 'SCHRAG, S'), (82, 'ANDERSON, C'), (83, 'WASSERMAN, S'), (84, 'CROUCH, B'), (85, 'ANDERSON, P'), (86, 'ARROW, K'), (87, 'PINES, D'), (88, 'ANDERSON, R'), (89, 'MAY, R'), (90, 'ANDERSSON, H'), (91, 'ANTAL, T'), (92, 'APIC, G'), (93, 'GOUGH, J'), (94, 'TEICHMANN, S'), (95, 'ARENAS, A'), (96, 'CABRALES, A'), (97, 'DIAZGUILERA, A'), (98, 'GUIMERA, R'), (99, 'VEGAREDONDO, F'), (100, 'DANON, L'), (101, 'GLEISER, P'), (102, 'ARITA, M'), (103, 'ASHWIN, P'), (104, 'BUESCU, J'), (105, 'STEWART, I'), (106, 'ATAY, F'), (107, 'JOST, J'), (108, 'WENDE, A'), (109, 'AUMANN, R'), (110, 'HART, S'), (111, 'AXELROD, R'), (112, 'BADER, G'), (113, 'HOGUE, C'), (114, 'BAIESI, M'), (115, 'PACZUSKI, M'), (116, 'BAILEY, N'), (117, 'BAIRD, D'), (118, 'ULANOWICZ, R'), (119, 'BAKER, W'), (120, 'FAULKNER, R'), (121, 'BAK, P'), (122, 'SNEPPEN, K'), (123, 'BALL, F'), (124, 'MOLLISON, D'), (125, 'SCALIATOMBA, G'), (126, 'BALL, P'), (127, 'BANAVAR, J'), (128, 'MARITAN, A'), (129, 'RINALDO, A'), (130, 'BANKS, D'), (131, 'CARLEY, K'), (132, 'BIANCONI, G'), (133, 'RAVASZ, E'), (134, 'NEDA, Z'), (135, 'SCHUBERT, A'), (136, 'BARAHONA, M'), (137, 'PECORA, L'), (138, 'BARBOUR, A'), (139, 'REINERT, G'), (140, 'BARJOSEPH, Z'), (141, 'GERBER, G'), (142, 'LEE, T'), (143, 'RINALDI, N'), (144, 'YOO, J'), (145, 'ROBERT, F'), (146, 'GORDON, D'), (147, 'FRAENKEL, E'), (148, 'JAAKKOLA, T'), (149, 'YOUNG, R'), (150, 'BARRAT, A'), (151, 'PASTORSATORRAS, R'), (152, 'VESPIGNANI, A'), (153, 'WEIGT, M'), (154, 'BARRETO, E'), (155, 'SO, P'), (156, 'GLUCKMANN, B'), (157, 'SCHIFF, S'), (158, 'GONDRAN, B'), (159, 'GUICHARD, E'), (160, 'BARYAM, Y'), (161, 'BATAGELJ, V'), (162, 'MRVAR, A'), (163, 'BATTISTON, S'), (164, 'CATANZARO, M'), (165, 'BATTY, M'), (166, 'LONGLEY, P'), (167, 'BAUER, M'), (168, 'BERNARD, D'), (169, 'BAVELAS, A'), (170, 'BCHKLOVSKII, D'), (171, 'SCHIKORSKI, T'), (172, 'STEVENS, C'), (173, 'BEARMAN, P'), (174, 'MOODY, J'), (175, 'STOVEL, K'), (176, 'BEKESSY, A'), (177, 'BEKESSY, P'), (178, 'KOMLOS, J'), (179, 'BELL, H'), (180, 'BELYKH, I'), (181, 'BELYKH, V'), (182, 'HASLER, M'), (183, 'BENDER, E'), (184, 'CANFIELD, E'), (185, 'BENNAIM, E'), (186, 'FRAUENFELDER, H'), (187, 'TOROCZKAI, Z'), (188, 'BERG, J'), (189, 'LASSIG, M'), (190, 'WAGNER, A'), (191, 'BERLOW, E'), (192, 'BERNARDES, A'), (193, 'COSTA, U'), (194, 'ARAUJO, A'), (195, 'KERTESZ, J'), (196, 'BERNARD, H'), (197, 'KILLWORTH, P'), (198, 'EVANS, M'), (199, 'MCCARTY, C'), (200, 'SHELLEY, G'), (201, 'BHAN, A'), (202, 'GALAS, D'), (203, 'DEWEY, T'), (204, 'CAPOCCI, A'), (205, 'BIGGS, N'), (206, 'BILKE, S'), (207, 'PETERSON, C'), (208, 'BLANCHARD, P'), (209, 'CHANG, C'), (210, 'KRUGER, T'), (211, 'BLASIUS, B'), (212, 'HUPPERT, A'), (213, 'STONE, L'), (214, 'BLOWER, S'), (215, 'SAMUEL, M'), (216, 'WILEY, J'), (217, 'BOCCALETTI, S'), (218, 'BRAGARD, J'), (219, 'MANCINI, H'), (220, 'KURTHS, J'), (221, 'VALLADARES, D'), (222, 'OSIPOV, G'), (223, 'ZHOU, C'), (224, 'PELAEZ, A'), (225, 'MAZA, D'), (226, 'BOGUNA, M'), (227, 'BOHLAND, J'), (228, 'MINAI, A'), (229, 'BOLLOBAS, B'), (230, 'RIORDAN, O'), (231, 'SPENCER, J'), (232, 'TUSNADY, G'), (233, 'BONACICH, P'), (234, 'BONANNO, G'), (235, 'LILLO, F'), (236, 'MANTEGNA, R'), (237, 'BONNEKOH, J'), (238, 'BORDENS, M'), (239, 'GOMEZ, I'), (240, 'BORGATTI, S'), (241, 'EVERETT, M'), (242, 'FOSTER, P'), (243, 'BORGERS, C'), (244, 'KOPELL, N'), (245, 'BORNHOLDT, S'), (246, 'EBEL, H'), (247, 'ROHLF, T'), (248, 'SCHUSTER, H'), (249, 'BOTA, M'), (250, 'DONG, H'), (251, 'SWANSON, L'), (252, 'MENDOZA, C'), (253, 'HENTSCHEL, H'), (254, 'BRANDES, U'), (255, 'BREIGER, R'), (256, 'BOORMAN, S'), (257, 'ARABIE, P'), (258, 'BRESSLER, S'), (259, 'BRIN, S'), (260, 'PAGE, L'), (261, 'BROADBENT, S'), (262, 'HAMMERSLEY, J'), (263, 'BRODER, A'), (264, 'KUMAR, R'), (265, 'MAGHOUL, F'), (266, 'RAGHAVAN, P'), (267, 'RAJAGOPALAN, S'), (268, 'STATA, R'), (269, 'TOMKINS, A'), (270, 'WIENER, J'), (271, 'BROIDA, A'), (272, 'CLAFFY, K'), (273, 'BUCHANAN, M'), (274, 'BUCHEL, C'), (275, 'COULL, J'), (276, 'FRISTON, K'), (277, 'BUCOLO, M'), (278, 'FORTUNA, L'), (279, 'LAROSA, M'), (280, 'BUHL, J'), (281, 'GAUTRAIS, J'), (282, 'SOLE, R'), (283, 'KUNTZ, P'), (284, 'VALVERDE, S'), (285, 'DENEUBOURG, J'), (286, 'THERAULAZ, G'), (287, 'BURDA, Z'), (288, 'CORREIA, J'), (289, 'KRZYWICKI, A'), (290, 'JURKIEWICZ, J'), (291, 'BURIONI, R'), (292, 'CASSI, D'), (293, 'VEZZANI, A'), (294, 'BURNS, G'), (295, 'YOUNG, M'), (296, 'BURT, R'), (297, 'BUZSAKI, G'), (298, 'CHROBAK, J'), (299, 'GEISLER, C'), (300, 'HENZE, D'), (301, 'WANG, X'), (302, 'CALDARELLI, G'), (303, 'DELOSRIOS, P'), (304, 'MUNOZ, M'), (305, 'COCCETTI, F'), (306, 'CALLAWAY, D'), (307, 'HOPCROFT, J'), (308, 'KLEINBERG, J'), (309, 'STROGATZ, S'), (310, 'WATTS, D'), (311, 'CAMACHO, J'), (312, 'CAMPBELL, N'), (313, 'REECE, J'), (314, 'CAMPBELL, S'), (315, 'WANG, D'), (316, 'JAYAPRAKASH, C'), (317, 'SERVEDIO, V'), (318, 'COLAIORI, F'), (319, 'CARLSON, J'), (320, 'DOYLE, J'), (321, 'CARRERAS, B'), (322, 'LYNCH, V'), (323, 'DOBSON, I'), (324, 'NEWMAN, D'), (325, 'DOLROU, I'), (326, 'POOLE, A'), (327, 'CARUSO, F'), (328, 'LATORA, V'), (329, 'RAPISARDA, A'), (330, 'TADIC, B'), (331, 'CASTELLANO, C'), (332, 'VILONE, D'), (333, 'CATANIA, J'), (334, 'COATES, T'), (335, 'KEGELS, S'), (336, 'FULLILOVE, M'), (337, 'CHALLET, D'), (338, 'ZHANG, Y'), (339, 'CHAN, D'), (340, 'HUGHES, B'), (341, 'LEONG, A'), (342, 'REED, W'), (343, 'CHATE, H'), (344, 'PIKOVSKY, A'), (345, 'RUDZICK, O'), (346, 'CHAVEZ, M'), (347, 'HWANG, D'), (348, 'AMANN, A'), (349, 'CHEN, Q'), (350, 'CHANG, H'), (351, 'GOVINDAN, R'), (352, 'JAMIN, S'), (353, 'SHENKER, S'), (354, 'WILLINGER, W'), (355, 'CHEN, Y'), (356, 'RANGARAJAN, G'), (357, 'DING, M'), (358, 'CHERNIAK, C'), (359, 'CHANGIZI, M'), (360, 'KANG, D'), (361, 'MOKHTARZADA, Z'), (362, 'RODRIGUEZESTEBAN, R'), (363, 'CHKLOVSKII, D'), (364, 'KOULAKOV, A'), (365, 'MEL, B'), (366, 'SVOBODA, K'), (367, 'CHOWELL, G'), (368, 'HYMAN, J'), (369, 'EUBANK, S'), (370, 'VU, V'), (371, 'CLAUSET, A'), (372, 'MOORE, C'), (373, 'COHEN, J'), (374, 'BRIAND, F'), (375, 'NEWMAN, C'), (376, 'COHEN, R'), (377, 'BENAVRAHAM, D'), (378, 'HAVLIN, S'), (379, 'EREZ, K'), (380, 'CONNOR, R'), (381, 'HEITHAUS, M'), (382, 'BARRE, L'), (383, 'COPPERSMITH, S'), (384, 'KADANOFF, L'), (385, 'ZHANG, Z'), (386, 'CORDES, D'), (387, 'HAUGHTON, V'), (388, 'ARFANAKIS, K'), (389, 'CAREW, J'), (390, 'TURSKI, P'), (391, 'MORITZ, C'), (392, 'QUIGLEY, M'), (393, 'MEYERAND, M'), (394, 'CORMAN, S'), (395, 'KUHN, T'), (396, 'MCPHEE, R'), (397, 'DOOLEY, K'), (398, 'CORMEN, T'), (399, 'LEISERSON, C'), (400, 'RIVEST, R'), (401, 'STEIN, C'), (402, 'COSENZA, S'), (403, 'CRUCITTI, P'), (404, 'FRASCA, M'), (405, 'STAGNI, C'), (406, 'USAI, L'), (407, 'COULUMB, S'), (408, 'CRANE, D'), (409, 'CRIADO, R'), (410, 'FLORES, J'), (411, 'HERNANDEZBERMEJO, B'), (412, 'PELLO, J'), (413, 'ROMANCE, M'), (414, 'GARCIADELAMO, A'), (415, 'CRICK, F'), (416, 'KOCH, C'), (417, 'MARCHIORI, M'), (418, 'PORTA, S'), (419, 'CSANYI, G'), (420, 'SZENDROI, B'), (421, 'CSERMELY, P'), (422, 'CSETE, M'), (423, 'CUNHA, C'), (424, 'BESTAVROS, A'), (425, 'CROVELLA, M'), (426, 'CVETKOVIC, D'), (427, 'DOOB, M'), (428, 'SACHS, H'), (429, 'DAFONTOURACOSTA, L'), (430, 'DIAMBRA, L'), (431, 'DALEY, D'), (432, 'GANI, J'), (433, 'KENDALL, D'), (434, 'DALL, J'), (435, 'CHRISTENSEN, M'), (436, 'DAVIDSEN, J'), (437, 'DAVIS, A'), (438, 'GARDNER, B'), (439, 'GARDNER, M'), (440, 'DAVIS, G'), (441, 'GREVE, H'), (442, 'YOO, M'), (443, 'DEARCANGELIS, L'), (444, 'HERRMANN, H'), (445, 'DECASTRO, R'), (446, 'GROSSMAN, J'), (447, 'DEFFUANT, G'), (448, 'NEAU, D'), (449, 'AMBLARD, F'), (450, 'WEISBUCH, G'), (451, 'DEFRAYSSEIX, H'), (452, 'DEGROOT, M'), (453, 'DELIMAESILVA, D'), (454, 'MEDEIROSSOARES, M'), (455, 'HENRIQUES, M'), (456, 'SCHIVANIALVES, M'), (457, 'DEAGUILAR, S'), (458, 'DECARVALHO, T'), (459, 'CORSO, G'), (460, 'LUCENA, L'), (461, 'DELUCIA, M'), (462, 'BOTTACCIO, M'), (463, 'MONTUORI, M'), (464, 'PIETRONERO, L'), (465, 'DEMENEZES, M'), (466, 'MOUKARZEL, C'), (467, 'PENNA, T'), (468, 'DEMERS, A'), (469, 'GREENE, D'), (470, 'HAUSER, C'), (471, 'IRISH, W'), (472, 'LARSON, J'), (473, 'DEMOURA, A'), (474, 'MOTTER, A'), (475, 'GREBOGI, C'), (476, 'DERRIDA, B'), (477, 'FLYVBJERG, H'), (478, 'GARDNER, E'), (479, 'ZIPPELIUS, A'), (480, 'DESHAZER, D'), (481, 'BREBAN, R'), (482, 'OTT, E'), (483, 'ROY, R'), (484, 'DESTEXHE, A'), (485, 'MARDER, E'), (486, 'DEZSO, Z'), (487, 'DIEKMANN, O'), (488, 'HEESTERBEEK, J'), (489, 'DOBRIN, R'), (490, 'BEG, Q'), (491, 'DODDS, P'), (492, 'MUHAMAD, R'), (493, 'ROTHMAN, D'), (494, 'SABEL, C'), (495, 'DODEL, S'), (496, 'HERRMANN, J'), (497, 'GEISEL, T'), (498, 'DONATH, W'), (499, 'HOFFMAN, A'), (500, 'DONETTI, L'), (501, 'DOROGOVTSEV, S'), (502, 'GOLTSEV, A'), (503, 'MENDES, J'), (504, 'SAMUKHIN, A'), (505, 'DOYE, J'), (506, 'DU, D'), (507, 'GU, J'), (508, 'DUNNE, J'), (509, 'WILLIAMS, R'), (510, 'MARTINEZ, N'), (511, 'DURRETT, R'), (512, 'EAMES, K'), (513, 'KEELING, M'), (514, 'MIELSCH, L'), (515, 'ECHENIQUE, P'), (516, 'GOMEZGARDENES, J'), (517, 'MORENO, Y'), (518, 'VAZQUEZ, A'), (519, 'ECKMANN, J'), (520, 'MOSES, E'), (521, 'EGGHE, L'), (522, 'ROUSSEAU, R'), (523, 'EGUILUZ, V'), (524, 'CHIALVO, D'), (525, 'CECCHI, G'), (526, 'BALIKI, M'), (527, 'APKARIAN, A'), (528, 'KLEMM, K'), (529, 'EIGEN, M'), (530, 'SCHUSTER, P'), (531, 'EISENBERG, D'), (532, 'MARCOTTE, E'), (533, 'XENARIOS, I'), (534, 'YEATES, T'), (535, 'EISENBERG, E'), (536, 'LEVANON, E'), (537, 'ELDAR, A'), (538, 'ENGEL, A'), (539, 'FRIES, P'), (540, 'SINGER, W'), (541, 'MOLL, C'), (542, 'FRIED, I'), (543, 'OJEMANN, G'), (544, 'ENNIS, J'), (545, 'ERDOS, P'), (546, 'RENYI, A'), (547, 'ERGUN, G'), (548, 'RODGERS, G'), (549, 'ERIKSEN, K'), (550, 'SIMONSEN, I'), (551, 'MASLOV, S'), (552, 'EVERITT, B'), (553, 'FABRIKANT, A'), (554, 'KOUTSOUPIAS, E'), (555, 'PAPADIMITRIOU, C'), (556, 'FALCONER, K'), (557, 'FALOUTSOS, M'), (558, 'FALOUTSOS, P'), (559, 'FALOUTSOS, C'), (560, 'FARARO, T'), (561, 'SUNSHINE, M'), (562, 'FARKAS, I'), (563, 'DERENYI, I'), (564, 'FAUST, K'), (565, 'WILLERT, K'), (566, 'ROWLEE, D'), (567, 'SKVORETZ, J'), (568, 'FELL, D'), (569, 'FELLEMAN, D'), (570, 'VANESSEN, D'), (571, 'FEMAT, R'), (572, 'SOLISPERALES, G'), (573, 'FERGUSON, N'), (574, 'GARNETT, G'), (575, 'FERRERICANCHO, R'), (576, 'JANSSEN, C'), (577, 'KOHLER, R'), (578, 'FIDUCCIA, C'), (579, 'MATTHEYSES, R'), (580, 'FIEDLER, M'), (581, 'FILATRELLA, G'), (582, 'STRAUGHN, B'), (583, 'BARBARA, P'), (584, 'FINGELKURTS, A'), (585, 'KAHKONEN, S'), (586, 'FINK, K'), (587, 'JOHNSON, G'), (588, 'CARROLL, T'), (589, 'FITZHUGH, R'), (590, 'FLAKE, G'), (591, 'LAWRENCE, S'), (592, 'GILES, C'), (593, 'COETZEE, F'), (594, 'FONTES, L'), (595, 'SCHONMANN, R'), (596, 'SPATA, A'), (597, 'FORTUNATO, S'), (598, 'FOSTER, I'), (599, 'KESSELMAN, C'), (600, 'FOX, J'), (601, 'HILL, C'), (602, 'FRANK, L'), (603, 'FRANK, O'), (604, 'STRAUSS, D'), (605, 'FREEMAN, L'), (606, 'FRENCH, J'), (607, 'FRITH, C'), (608, 'LIDDLE, P'), (609, 'FRACKOWIAK, R'), (610, 'FRONCZAK, A'), (611, 'FRONCZAK, P'), (612, 'JEDYNAK, M'), (613, 'SIENKIEWICZ, J'), (614, 'FU, C'), (615, 'FUJISAKA, H'), (616, 'YAMADA, T'), (617, 'GADE, P'), (618, 'HU, C'), (619, 'GAFIYCHUK, V'), (620, 'LUBASHEVSKY, I'), (621, 'STOSYK, A'), (622, 'GALASKIEWICZ, J'), (623, 'MARSDEN, P'), (624, 'GALSTYAN, A'), (625, 'LERMAN, K'), (626, 'GAMMAITONI, L'), (627, 'HANGGI, P'), (628, 'JUNG, P'), (629, 'MARCHESONI, F'), (630, 'GAO, Z'), (631, 'HU, B'), (632, 'HU, G'), (633, 'GAREY, M'), (634, 'JOHNSON, D'), (635, 'GARFIELD, E'), (636, 'GARFINKEL, I'), (637, 'GLEI, D'), (638, 'MCLANAHAN, S'), (639, 'GARLASCHELLI, D'), (640, 'CASTRI, M'), (641, 'LOFFREDO, M'), (642, 'GASTNER, M'), (643, 'GAUTHIER, D'), (644, 'BIENFANG, J'), (645, 'GERSCHGORIN, S'), (646, 'GIOT, L'), (647, 'GIRVAN, M'), (648, 'GLANZ, J'), (649, 'PEREZPENA, R'), (650, 'GLASS, L'), (651, 'GLEISS, P'), (652, 'STADLER, P'), (653, 'GOH, K'), (654, 'GHIM, C'), (655, 'KAHNG, B'), (656, 'KIM, D'), (657, 'LEE, D'), (658, 'OH, E'), (659, 'GOLDBERG, D'), (660, 'NICHOLS, D'), (661, 'OKI, B'), (662, 'TERRY, D'), (663, 'GOLDBETER, A'), (664, 'GONZE, D'), (665, 'HOUART, G'), (666, 'LELOUP, J'), (667, 'DUPONT, G'), (668, 'GOLDWASSER, L'), (669, 'ROUGHGARDEN, J'), (670, 'GOLOMB, D'), (671, 'HANSEL, D'), (672, 'RINZEL, J'), (673, 'GOLUB, G'), (674, 'VANLOAN, C'), (675, 'FLORIA, L'), (676, 'GONZALES, M'), (677, 'SOUSA, A'), (678, 'HALLY, J'), (679, 'GOODHILL, A'), (680, 'SIMMEN, M'), (681, 'WILLSHAW, D'), (682, 'GOODMAN, M'), (683, 'HALL, D'), (684, 'AVERY, L'), (685, 'LOCKERY, S'), (686, 'GORMAN, S'), (687, 'TANGMUNARUNKIT, H'), (688, 'GRANOVETTER, M'), (689, 'GRASSBERGER, P'), (690, 'GRAY, C'), (691, 'KONIG, P'), (692, 'GREENHALGH, D'), (693, 'GREGOIRE, G'), (694, 'GROSS, J'), (695, 'KUJALA, J'), (696, 'HAMALAINEN, M'), (697, 'TIMMERMANN, L'), (698, 'SCHNITZLER, A'), (699, 'SALMELIN, R'), (700, 'ION, P'), (701, 'GUARDIOLA, X'), (702, 'LLAS, M'), (703, 'PEREZ, C'), (704, 'GUARE, J'), (705, 'GUELZIM, N'), (706, 'BOTTANI, S'), (707, 'BOURGINE, P'), (708, 'KEPES, F'), (709, 'GIRALT, F'), (710, 'MOSSA, S'), (711, 'TURTSCHI, A'), (712, 'GUPTA, S'), (713, 'HALL, G'), (714, 'BAHAR, S'), (715, 'HALL, K'), (716, 'HARI, R'), (717, 'ILMONIEMI, R'), (718, 'KNUUTILA, J'), (719, 'LOUNASMAA, O'), (720, 'HANDCOCK, M'), (721, 'JONES, J'), (722, 'SOMPOLINSKY, H'), (723, 'HARARY, F'), (724, 'HARWELL, L'), (725, 'HOPFIELD, J'), (726, 'LEIBLER, S'), (727, 'MURRAY, A'), (728, 'HAYES, B'), (729, 'HAYNIE, D'), (730, 'HEAGY, J'), (731, 'HEGSELMANN, R'), (732, 'KRAUSE, U'), (733, 'HE, M'), (734, 'XU, H'), (735, 'SUN, Q'), (736, 'HERRERO, C'), (737, 'HERRMANN, C'), (738, 'PROVERO, P'), (739, 'HONG, D'), (740, 'ROUX, S'), (741, 'HETHCOTE, H'), (742, 'HIGHAM, D'), (743, 'HILGETAG, C'), (744, 'ONEILL, M'), (745, 'SCANNELL, J'), (746, 'GRANT, A'), (747, 'KAISER, M'), (748, 'HILLIER, B'), (749, 'HANSON, J'), (750, 'HIRSCH, J'), (751, 'HODGKIN, A'), (752, 'HUXLEY, A'), (753, 'HOFF, P'), (754, 'RAFTERY, A'), (755, 'HOLLAND, P'), (756, 'LEINHARDT, S'), (757, 'HOLME, P'), (758, 'EDLING, C'), (759, 'LILJEROS, F'), (760, 'GHOSHAL, G'), (761, 'HUSS, M'), (762, 'KIM, B'), (763, 'YOON, C'), (764, 'HAN, S'), (765, 'TRUSINA, A'), (766, 'MINNHAGEN, P'), (767, 'HOLMGREN, C'), (768, 'HARKANY, T'), (769, 'SVENNENFORS, B'), (770, 'ZILBERTER, Y'), (771, 'HOLTER, N'), (772, 'MITRA, M'), (773, 'CIEPLAK, M'), (774, 'FEDROFF, N'), (775, 'HONG, H'), (776, 'CHOI, M'), (777, 'PARK, H'), (778, 'HORN, N'), (779, 'RUPPIN, E'), (780, 'HORWITZ, B'), (781, 'HUFNAGEL, L'), (782, 'BROCKMANN, D'), (783, 'HUGENII, C'), (784, 'YANG, J'), (785, 'LIU, W'), (786, 'HUXHAM, M'), (787, 'BEANEY, S'), (788, 'RAFFAELLI, D'), (789, 'LOPEZRUIZ, R'), (790, 'IAMNITCHI, A'), (791, 'RIPEANU, M'), (792, 'ICHINOMIYA, T'), (793, 'IGOSHIN, O'), (794, 'KAISER, D'), (795, 'OSTER, G'), (796, 'IHMELS, J'), (797, 'FRIEDLANDER, G'), (798, 'BERGMANN, S'), (799, 'OFERSARIG, Y'), (800, 'ITO, T'), (801, 'CHIBA, T'), (802, 'OZAWA, R'), (803, 'YOSHIDA, M'), (804, 'HATTORI, M'), (805, 'SAKAKI, Y'), (806, 'ITZKOVITZ, S'), (807, 'MILO, R'), (808, 'KASHTAN, N'), (809, 'ZIV, G'), (810, 'JACOB, F'), (811, 'MONOD, J'), (812, 'JACOBSON, V'), (813, 'JAFFE, A'), (814, 'TRAJTENBERG, M'), (815, 'JAIN, A'), (816, 'MURTY, M'), (817, 'FLYNN, P'), (818, 'JAIN, S'), (819, 'KRISHNA, S'), (820, 'JALAN, S'), (821, 'AMRITKAR, R'), (822, 'JANKOWSKI, S'), (823, 'LONDEI, A'), (824, 'MAZUR, C'), (825, 'LOZOWSKI, A'), (826, 'JANSEN, R'), (827, 'YU, H'), (828, 'GREENBAUM, D'), (829, 'KLUGER, Y'), (830, 'KROGAN, N'), (831, 'CHUNG, S'), (832, 'EMILI, A'), (833, 'SNYDER, M'), (834, 'GREENBLATT, J'), (835, 'GERSTEIN, M'), (836, 'JANSON, S'), (837, 'LUCZAK, T'), (838, 'RUCINSKI, A'), (839, 'JENSEN, H'), (840, 'MASON, S'), (841, 'TOMBOR, B'), (842, 'JESPERSEN, S'), (843, 'BLUMEN, A'), (844, 'SOKOLOV, I'), (845, 'JIA, L'), (846, 'SANO, M'), (847, 'LAI, P'), (848, 'CHAN, C'), (849, 'JIANG, B'), (850, 'CLARAMUNT, C'), (851, 'JIANG, Y'), (852, 'LOZADACASSOU, M'), (853, 'VINET, A'), (854, 'JIN, E'), (855, 'JOHNSON, S'), (856, 'JORDANO, P'), (857, 'BASCOMPTE, J'), (858, 'OLESEN, J'), (859, 'JOSIC, K'), (860, 'JOY, M'), (861, 'JOUVE, B'), (862, 'ROSENTIEHL, P'), (863, 'IMBERT, M'), (864, 'JUNG, S'), (865, 'KIM, S'), (866, 'PARK, Y'), (867, 'KALAPALA, V'), (868, 'SANWALANI, V'), (869, 'KANEKO, K'), (870, 'KARBOWSKI, J'), (871, 'KAREV, G'), (872, 'WOLF, Y'), (873, 'RZHETSKY, A'), (874, 'BEREZOVSKAYA, F'), (875, 'KOONIN, E'), (876, 'KARINTHY, F'), (877, 'KARONSKI, M'), (878, 'KARP, P'), (879, 'RILEY, M'), (880, 'PALEY, S'), (881, 'PELLEGRINITOOLE, A'), (882, 'KRUMMENACKER, M'), (883, 'KAUFFMAN, S'), (884, 'KAUTZ, H'), (885, 'SELMAN, B'), (886, 'SHAH, M'), (887, 'KEPHART, J'), (888, 'WHITE, S'), (889, 'KERMARREC, A'), (890, 'GANESH, A'), (891, 'MASSOULIE, L'), (892, 'KERNIGHAN, B'), (893, 'CHUNG, J'), (894, 'KIM, J'), (895, 'KINNEY, R'), (896, 'KINOUCHI, O'), (897, 'MARTINEZ, A'), (898, 'LIMA, G'), (899, 'LOURENC, G'), (900, 'RISAUGUSMAN, S'), (901, 'KIRKPATRICK, S'), (902, 'GELATT, C'), (903, 'VECCHI, M'), (904, 'KISS, I'), (905, 'ZHAI, Y'), (906, 'HUDSON, J'), (907, 'KLECZKOWSKI, A'), (908, 'GRENFELL, B'), (909, 'KUMAR, S'), (910, 'KLEVECZ, R'), (911, 'BOLEN, J'), (912, 'DURAN, O'), (913, 'KLOVDAHL, A'), (914, 'POTTERAT, J'), (915, 'WOODHOUSE, D'), (916, 'MUTH, J'), (917, 'MUTH, S'), (918, 'DARROW, W'), (919, 'KLYACHKO, V'), (920, 'KNUTH, D'), (921, 'KOCAREV, L'), (922, 'PARLITZ, U'), (923, 'LAURENT, G'), (924, 'KOCH, M'), (925, 'NORRIS, D'), (926, 'HUNDGEORGIADIS, M'), (927, 'PATURI, R'), (928, 'ERMENTROUT, B'), (929, 'KOR, J'), (930, 'KORTE, C'), (931, 'MILGRAM, S'), (932, 'KOTTER, R'), (933, 'STEPHAN, K'), (934, 'SOMMER, F'), (935, 'LEYVRAZ, F'), (936, 'KRAUSE, A'), (937, 'FRANK, K'), (938, 'MASON, D'), (939, 'TAYLOR, W'), (940, 'KREBS, V'), (941, 'KREE, R'), (942, 'KRETZSCHMAR, M'), (943, 'VANDUYNHOVEN, Y'), (944, 'SEVERIJNEN, A'), (945, 'SIVAKUMAR, D'), (946, 'UPFAL, E'), (947, 'ZANETTE, D'), (948, 'KURAMOTO, Y'), (949, 'NAKAO, H'), (950, 'KWON, O'), (951, 'MOON, H'), (952, 'LAGOFERNANDEZ, L'), (953, 'CORBACHO, F'), (954, 'HUERTA, R'), (955, 'SIGUENZA, J'), (956, 'LAHTINEN, J'), (957, 'KASKI, K'), (958, 'LAWNICZAK, A'), (959, 'MAXIE, K'), (960, 'GERISCH, A'), (961, 'LEE, L'), (962, 'HARRISON, L'), (963, 'MECHELLI, A'), (964, 'LEONE, M'), (965, 'ZECCHINA, R'), (966, 'LEVANQUYEN, M'), (967, 'QUILICHINI, P'), (968, 'BERNARD, C'), (969, 'ESCLAPEZ, M'), (970, 'BENARI, Y'), (971, 'GOZLAN, H'), (972, 'LEVIN, S'), (973, 'LI, C'), (974, 'CHEN, G'), (975, 'LIEBERMAN, E'), (976, 'HAUERT, C'), (977, 'NOWAK, M'), (978, 'ABERG, Y'), (979, 'LI, R'), (980, 'ERNEUX, T'), (981, 'LI, S'), (982, 'WAND, H'), (983, 'OUYANG, Q'), (984, 'LIU, Z'), (985, 'LAI, Y'), (986, 'HOPPENSTEADT, F'), (987, 'YE, N'), (988, 'LI, W'), (989, 'CAI, X'), (990, 'LI, X'), (991, 'LLINAS, R'), (992, 'LLOYD, A'), (993, 'LOCKHART, D'), (994, 'WINZELER, E'), (995, 'LOGOTHETIS, N'), (996, 'PAULS, J'), (997, 'AUGATH, M'), (998, 'TRINATH, T'), (999, 'OELTERMANN, A'), (1000, 'LORRAIN, F'), (1001, 'WHITE, H'), (1002, 'LOTKA, A'), (1003, 'LU, J'), (1004, 'YU, X'), (1005, 'CHEN, D'), (1006, 'LUSSEAU, D'), (1007, 'LU, W'), (1008, 'CHEN, T'), (1009, 'MACDONALD, P'), (1010, 'MACGRAW, P'), (1011, 'MENZINGER, M'), (1012, 'MAHADEVAN, R'), (1013, 'PALSSON, B'), (1014, 'MA, H'), (1015, 'ZENG, A'), (1016, 'MAJORANA, E'), (1017, 'MANGAN, S'), (1018, 'MANNA, S'), (1019, 'SEN, P'), (1020, 'MARI, C'), (1021, 'MARIOLIS, P'), (1022, 'RIGON, R'), (1023, 'GIACOMETTI, A'), (1024, 'RODRIGUEZITURBE, I'), (1025, 'MARODI, M'), (1026, 'DOVIDIO, F'), (1027, 'MARRO, J'), (1028, 'DICKMAN, R'), (1029, 'MARTIN, R'), (1030, 'ANDRAS, P'), (1031, 'ZALIZNYAK, A'), (1032, 'MASOLLER, C'), (1033, 'MARTI, A'), (1034, 'MASSUNAGA, M'), (1035, 'BAHIANA, M'), (1036, 'MASUDA, N'), (1037, 'AIHARA, K'), (1038, 'MIWA, H'), (1039, 'KONNO, N'), (1040, 'MATTHEWS, P'), (1041, 'MIROLLO, R'), (1042, 'VALLONE, A'), (1043, 'MCCANN, K'), (1044, 'HASTINGS, A'), (1045, 'HUXEL, G'), (1046, 'MCGRAW, P'), (1047, 'MEESTER, R'), (1048, 'MEHRING, C'), (1049, 'HEHL, U'), (1050, 'KUBO, M'), (1051, 'DIESMANN, M'), (1052, 'MEHTA, M'), (1053, 'MELIN, G'), (1054, 'PERSSON, O'), (1055, 'MENCZER, F'), (1056, 'BELEW, R'), (1057, 'PANT, G'), (1058, 'RUIZ, M'), (1059, 'SRINIVASAN, P'), (1060, 'MERTON, R'), (1061, 'MEWES, H'), (1062, 'FRISHMAN, D'), (1063, 'GULDENER, U'), (1064, 'MANNHAUPT, G'), (1065, 'MAYER, K'), (1066, 'MOKREJS, M'), (1067, 'MORGENSTERN, B'), (1068, 'MUNSTERKOTTER, M'), (1069, 'RUDD, S'), (1070, 'WEIL, B'), (1071, 'LEVITT, R'), (1072, 'SHENORR, S'), (1073, 'AYZENSHTAT, I'), (1074, 'SHEFFER, M'), (1075, 'LEVY, W'), (1076, 'MITCHELL, M'), (1077, 'MIZRUCHI, M'), (1078, 'MOHAR, B'), (1079, 'MOLLOY, M'), (1080, 'REED, B'), (1081, 'MONASSON, R'), (1082, 'MONTOYA, J'), (1083, 'MOREIRA, A'), (1084, 'ANDRADE, J'), (1085, 'MORELLI, L'), (1086, 'MORENO, J'), (1087, 'GOMEZ, J'), (1088, 'PACHECO, A'), (1089, 'NEKOVEE, M'), (1090, 'VAZQUEZPRADA, M'), (1091, 'MORRIS, M'), (1092, 'DASGUPTA, P'), (1093, 'NISHIKAWA, T'), (1094, 'MROWKA, R'), (1095, 'PATZAK, A'), (1096, 'HERZEL, H'), (1097, 'HOLSTE, D'), (1098, 'MULLER, J'), (1099, 'SCHONFISCH, B'), (1100, 'KIRKILIONIS, M'), (1101, 'MURRAY, J'), (1102, 'NAGUMO, J'), (1103, 'ARIMOTO, S'), (1104, 'YOSHIZAWA, S'), (1105, 'NAKAMURA, I'), (1106, 'NEIMAN, A'), (1107, 'PEI, X'), (1108, 'RUSSELL, D'), (1109, 'WOJTENEK, W'), (1110, 'WILKENS, L'), (1111, 'MOSS, F'), (1112, 'BRAUN, H'), (1113, 'HUBER, M'), (1114, 'VOIGT, K'), (1115, 'NEMETH, G'), (1116, 'VATTAY, G'), (1117, 'NETOFF, T'), (1118, 'CLEWLEY, R'), (1119, 'ARNO, S'), (1120, 'KECK, T'), (1121, 'WHITE, J'), (1122, 'FORREST, S'), (1123, 'BALTHROP, J'), (1124, 'LEICHT, E'), (1125, 'NIEBUR, E'), (1126, 'KAMMEN, D'), (1127, 'NIEMINEN, J'), (1128, 'NOH, J'), (1129, 'RIEGER, H'), (1130, 'SIGMUND, K'), (1131, 'RHO, K'), (1132, 'OHIRA, T'), (1133, 'SAWATARI, R'), (1134, 'OKANE, D'), (1135, 'TREVES, A'), (1136, 'ONNELA, J'), (1137, 'CHAKRABORTI, A'), (1138, 'KANTO, A'), (1139, 'JARISARAMAKI, J'), (1140, 'ONODY, R'), (1141, 'DECASTRO, P'), (1142, 'OOSAWA, C'), (1143, 'SAVAGEAU, M'), (1144, 'ORAM, A'), (1145, 'OSBORNE, M'), (1146, 'ROSENBLUM, M'), (1147, 'OTSUKA, K'), (1148, 'KAWAI, R'), (1149, 'HWONG, S'), (1150, 'KO, J'), (1151, 'CHERN, J'), (1152, 'OVERBAY, T'), (1153, 'OVERBEEK, R'), (1154, 'LARSEN, N'), (1155, 'PUSCH, G'), (1156, 'DSOUZA, M'), (1157, 'SELKOVJR, E'), (1158, 'KYRPIDES, N'), (1159, 'FONSTEIN, M'), (1160, 'MALTSEV, N'), (1161, 'SELKOV, E'), (1162, 'OZANA, M'), (1163, 'BASSLER, K'), (1164, 'CORRAL, A'), (1165, 'PADGETT, J'), (1166, 'ANSELL, C'), (1167, 'MOTWANI, R'), (1168, 'WINOGRAD, T'), (1169, 'PANDEY, A'), (1170, 'MANN, M'), (1171, 'PANDIT, S'), (1172, 'PANDYA, R'), (1173, 'PARK, J'), (1174, 'PARMANANDA, P'), (1175, 'PASEMANN, F'), (1176, 'PASSINGHAM, R'), (1177, 'STHEPAN, K'), (1178, 'RUBI, M'), (1179, 'SMITH, E'), (1180, 'PEKALSKI, A'), (1181, 'PENNOCK, D'), (1182, 'GLOVER, E'), (1183, 'PETERMANNN, T'), (1184, 'PIMM, S'), (1185, 'PINTO, S'), (1186, 'LOPES, S'), (1187, 'VIANA, R'), (1188, 'PIOT, P'), (1189, 'PITTS, F'), (1190, 'PLUCHINO, A'), (1191, 'PODANI, J'), (1192, 'SZATHMARY, E'), (1193, 'POLIS, G'), (1194, 'POOL, I'), (1195, 'KOCHEN, M'), (1196, 'PORTER, M'), (1197, 'MUCHA, P'), (1198, 'WARMBRAND, C'), (1199, 'POTHEN, A'), (1200, 'SIMON, H'), (1201, 'LIOU, K'), (1202, 'ROTHENBERG, R'), (1203, 'ZIMMERMANROGER, H'), (1204, 'GREEN, D'), (1205, 'TAYLOR, J'), (1206, 'BONNEY, M'), (1207, 'PHILLIPSPLUMMER, L'), (1208, 'MALDONADOLONG, T'), (1209, 'ZIMMERMAN, H'), (1210, 'POWELL, W'), (1211, 'WHITE, D'), (1212, 'KOPUT, K'), (1213, 'OWENSMITH, J'), (1214, 'PRICE, D'), (1215, 'RADICCHI, F'), (1216, 'CECCONI, F'), (1217, 'LORETO, V'), (1218, 'PARISI, D'), (1219, 'RAGHAVACHARI, S'), (1220, 'GLAZIER, J'), (1221, 'RAIN, J'), (1222, 'RAMASCO, J'), (1223, 'RAMEZANPOUR, A'), (1224, 'KARIMIPOUR, V'), (1225, 'MASHAGHI, A'), (1226, 'RAPOPORT, A'), (1227, 'CHAMMAH, A'), (1228, 'HORVATH, W'), (1229, 'SOMERA, A'), (1230, 'MONGRU, D'), (1231, 'REICHARDT, J'), (1232, 'RESNICK, P'), (1233, 'VARIAN, H'), (1234, 'RESS, G'), (1235, 'KREIMAN, G'), (1236, 'RESTREPO, J'), (1237, 'HUNT, B'), (1238, 'RIVES, A'), (1239, 'GALITSKI, T'), (1240, 'DARBYDOWMAN, K'), (1241, 'ROETHLISBERGER, F'), (1242, 'DICKSON, W'), (1243, 'ROGERS, J'), (1244, 'WILLE, L'), (1245, 'ROGISTER, F'), (1246, 'THORNBURG, K'), (1247, 'FABINY, L'), (1248, 'MOLLER, M'), (1249, 'ROMANO, S'), (1250, 'EGUIA, M'), (1251, 'ROSA, E'), (1252, 'HESS, M'), (1253, 'ROSATO, V'), (1254, 'BOLOGNA, S'), (1255, 'TIRITICCO, F'), (1256, 'ROSVALL, M'), (1257, 'BALDWIN, J'), (1258, 'TROTTER, R'), (1259, 'ROUGEMONT, J'), (1260, 'HINGAMP, P'), (1261, 'ROXIN, A'), (1262, 'RIECKE, H'), (1263, 'SOLLA, S'), (1264, 'ROZENFELD, A'), (1265, 'RULKOV, N'), (1266, 'SUSHCHIK, M'), (1267, 'TSIMRING, L'), (1268, 'ABARBANEL, H'), (1269, 'GOMEZ, S'), (1270, 'SABIDUSSI, G'), (1271, 'SACHTJEN, M'), (1272, 'SAKAGUCHI, H'), (1273, 'SHINOMOTO, S'), (1274, 'SANDER, L'), (1275, 'WARREN, C'), (1276, 'SIMON, C'), (1277, 'KOOPMAN, J'), (1278, 'SATOR, N'), (1279, 'BLACKMORE, C'), (1280, 'GRANT, S'), (1281, 'PAYNE, B'), (1282, 'BADDELEY, R'), (1283, 'SCHAFER, C'), (1284, 'ABEL, H'), (1285, 'SCHELLING, T'), (1286, 'SCHNEEBERGER, A'), (1287, 'SCHUSTER, S'), (1288, 'PFEIFFER, T'), (1289, 'MOLDENHAUER, F'), (1290, 'KOCH, I'), (1291, 'DANDEKAR, T'), (1292, 'SCHUZ, A'), (1293, 'SCHWARTZ, I'), (1294, 'BILLINGS, L'), (1295, 'BOLLT, E'), (1296, 'SCHWARTZ, N'), (1297, 'SCOTT, J'), (1298, 'SEARLS, D'), (1299, 'SEARY, A'), (1300, 'RICHARDS, W'), (1301, 'SEDGEWICK, R'), (1302, 'SEGLEN, P'), (1303, 'SEIDMAN, S'), (1304, 'BANERJEE, K'), (1305, 'BISWAS, T'), (1306, 'CHAKRABARTI, B'), (1307, 'DASGUPTA, S'), (1308, 'CHATTERJEE, A'), (1309, 'SREERAM, P'), (1310, 'MUKHERJEE, G'), (1311, 'SHARDANAND, U'), (1312, 'MAES, P'), (1313, 'SHEFI, O'), (1314, 'GOLDING, I'), (1315, 'SEGEV, R'), (1316, 'BENJACOB, E'), (1317, 'AYALI, A'), (1318, 'SHEPARD, R'), (1319, 'SHERRINGTON, D'), (1320, 'SHOCKLEY, W'), (1321, 'SHUAI, J'), (1322, 'DURAND, D'), (1323, 'SIGMAN, M'), (1324, 'SIMARD, D'), (1325, 'NADEAU, L'), (1326, 'KROGER, H'), (1327, 'SINGH, B'), (1328, 'GUPTE, N'), (1329, 'SMITH, D'), (1330, 'TIMBERLAKE, M'), (1331, 'SMITH, R'), (1332, 'SNEL, B'), (1333, 'BORK, P'), (1334, 'HUYNEN, M'), (1335, 'SNIJDERS, T'), (1336, 'SOARES, D'), (1337, 'TSALLIS, C'), (1338, 'MARIZ, A'), (1339, 'DASILVA, L'), (1340, 'SOCOLAR, J'), (1341, 'SODERBERG, B'), (1342, 'SOFFER, S'), (1343, 'KEPLER, T'), (1344, 'SALAZARCIUDAD, I'), (1345, 'GARCIAFERNANDEZ, J'), (1346, 'SOLOMONOFF, R'), (1347, 'CRISANTI, A'), (1348, 'SONG, C'), (1349, 'MAKSE, H'), (1350, 'SONG, S'), (1351, 'SJOSTROM, P'), (1352, 'REIGL, M'), (1353, 'NELSON, S'), (1354, 'SOTELO, C'), (1355, 'SPIRIN, V'), (1356, 'MIRNY, L'), (1357, 'SPORNS, O'), (1358, 'TONONI, G'), (1359, 'EDELMAN, G'), (1360, 'ZWI, J'), (1361, 'STAM, C'), (1362, 'AHARONY, A'), (1363, 'ADLER, J'), (1364, 'MEYERORTMANNS, H'), (1365, 'STELLING, J'), (1366, 'KLAMT, S'), (1367, 'BETTENBROCK, K'), (1368, 'GILLES, E'), (1369, 'KAMPER, L'), (1370, 'BOZKURT, A'), (1371, 'STEPHENSON, K'), (1372, 'ZELEN, M'), (1373, 'STEYVERS, M'), (1374, 'TENENBAUM, J'), (1375, 'STILLER, J'), (1376, 'NETTLE, D'), (1377, 'DUNBAR, R'), (1378, 'STILWELL, D'), (1379, 'ROBERSON, D'), (1380, 'STONEHAM, A'), (1381, 'STUART, J'), (1382, 'SUCHECKI, K'), (1383, 'SVENSON, P'), (1384, 'SWEDBERG, R'), (1385, 'SZABO, G'), (1386, 'ALAVA, M'), (1387, 'SZNAJDWERON, K'), (1388, 'SZNAJD, J'), (1389, 'SZYMANSKI, J'), (1390, 'THURNER, S'), (1391, 'TAKAYASU, M'), (1392, 'TAKAYASU, H'), (1393, 'SATO, T'), (1394, 'TANAKA, R'), (1395, 'TASS, P'), (1396, 'WEULE, M'), (1397, 'VOLKMANN, J'), (1398, 'FREUND, H'), (1399, 'TERMAN, D'), (1400, 'TICOS, C'), (1401, 'ROSAJR, E'), (1402, 'PARDO, W'), (1403, 'WALKENSTEIN, J'), (1404, 'MONTI, M'), (1405, 'TIERI, P'), (1406, 'VALENSIN, S'), (1407, 'CASTELLANI, G'), (1408, 'REMONDINI, D'), (1409, 'FRANCESCHI, C'), (1410, 'TIMME, M'), (1411, 'WOLF, F'), (1412, 'MCINTOSH, A'), (1413, 'TORNOW, S'), (1414, 'KOZMA, B'), (1415, 'HENGARTNER, N'), (1416, 'KORNISS, G'), (1417, 'TORRES, J'), (1418, 'GARRIDO, P'), (1419, 'TRAVERS, J'), (1420, 'DEALBUQUERQUE, M'), (1421, 'TSODYKS, M'), (1422, 'KENET, T'), (1423, 'GRINVALD, A'), (1424, 'ARIELI, A'), (1425, 'TYLER, J'), (1426, 'WILKINSON, D'), (1427, 'TYSON, J'), (1428, 'CSIKASZNAGE, A'), (1429, 'NOVAK, B'), (1430, 'UETZ, P'), (1431, 'CAGNEY, G'), (1432, 'MANSFIELD, T'), (1433, 'JUDSON, R'), (1434, 'KNIGHT, J'), (1435, 'LOCKSHON, D'), (1436, 'NARAYAN, V'), (1437, 'SRINIVASAN, M'), (1438, 'POCHART, P'), (1439, 'QURESHIEMILI, A'), (1440, 'LI, Y'), (1441, 'GODWIN, B'), (1442, 'CONOVER, D'), (1443, 'KALBFLEISCH, T'), (1444, 'VIJAYADAMODAR, G'), (1445, 'YANG, M'), (1446, 'JOHNSTON, M'), (1447, 'FIELDS, S'), (1448, 'ROTHBERG, J'), (1449, 'GLOT, L'), (1450, 'VALENTE, T'), (1451, 'FOREMAN, R'), (1452, 'CANCHO, R'), (1453, 'VANNUCCHI, F'), (1454, 'VANPUTTEN, M'), (1455, 'VANVREESWIJK, C'), (1456, 'VANWIGGEREN, G'), (1457, 'VARELA, F'), (1458, 'LACHAUX, J'), (1459, 'RODRIGUEZ, E'), (1460, 'MARTINERIE, J'), (1461, 'FLAMMINI, A'), (1462, 'VAZQUEZ, F'), (1463, 'VENKATESH, S'), (1464, 'VERDASCA, J'), (1465, 'VEZOLI, J'), (1466, 'FALCHIER, A'), (1467, 'KNOBLAUCH, K'), (1468, 'KENNEDY, H'), (1469, 'CZIROK, A'), (1470, 'COHEN, I'), (1471, 'SHOCHET, O'), (1472, 'VOGELSTEIN, B'), (1473, 'LANE, D'), (1474, 'LEVINE, A'), (1475, 'VOGELS, W'), (1476, 'VANRENESSE, R'), (1477, 'BIRMAN, K'), (1478, 'VOLCHENKOV, D'), (1479, 'VOLCHENKOVA, L'), (1480, 'VONNEUMANN, J'), (1481, 'MORGENSTERN, O'), (1482, 'VRAGOVIC, I'), (1483, 'LOUIS, E'), (1484, 'VUKADINOVIC, D'), (1485, 'HUANG, P'), (1486, 'ERLEBACH, T'), (1487, 'VUKMIROVIC, O'), (1488, 'TILGHMAN, S'), (1489, 'WALL, M'), (1490, 'HIAVACEK, W'), (1491, 'WALSH, T'), (1492, 'WANG, B'), (1493, 'ZHANG, F'), (1494, 'WANG, J'), (1495, 'DEWILDE, P'), (1496, 'WANG, S'), (1497, 'ZHANG, C'), (1498, 'XU, J'), (1499, 'PATTISON, P'), (1500, 'WAXMAN, B'), (1501, 'WEEKS, M'), (1502, 'CLAIR, S'), (1503, 'RADDA, K'), (1504, 'SCHENSUL, J'), (1505, 'WELLMAN, B'), (1506, 'SALAFF, J'), (1507, 'DIMITROVA, D'), (1508, 'GARTON, L'), (1509, 'GULIA, M'), (1510, 'HAYTHORNTHWAITE, C'), (1511, 'WEST, D'), (1512, 'WEST, G'), (1513, 'BROWN, J'), (1514, 'ENQUIST, B'), (1515, 'NAZER, N'), (1516, 'SOUTHGATE, E'), (1517, 'THOMPSON, J'), (1518, 'BRENNER, S'), (1519, 'WHITTINGTON, M'), (1520, 'TRAUB, R'), (1521, 'BUHL, E'), (1522, 'WINFREE, A'), (1523, 'WINFUL, H'), (1524, 'RAHMAN, L'), (1525, 'WOLFRAM, S'), (1526, 'WOOD, A'), (1527, 'WOLLENBERG, B'), (1528, 'WOOLF, M'), (1529, 'WORMALD, N'), (1530, 'WUCHTY, S'), (1531, 'WU, C'), (1532, 'CHUA, L'), (1533, 'WU, F'), (1534, 'RICE, D'), (1535, 'SALWINSKI, L'), (1536, 'BARON, M'), (1537, 'XULVIBRUNET, R'), (1538, 'YANG, K'), (1539, 'HUANG, L'), (1540, 'YANG, L'), (1541, 'YAN, G'), (1542, 'ZHOU, T'), (1543, 'FU, Z'), (1544, 'YAOUM, Y'), (1545, 'LAUMANN, E'), (1546, 'YEHIA, A'), (1547, 'JEANDUPREUX, D'), (1548, 'ALONSO, F'), (1549, 'GUEVARA, M'), (1550, 'YEUNG, M'), (1551, 'YOOK, S'), (1552, 'TU, Y'), (1553, 'YOUNG, H'), (1554, 'SAGER, J'), (1555, 'CSARDI, G'), (1556, 'HAGA, P'), (1557, 'YUSONG, T'), (1558, 'LINGJIANG, K'), (1559, 'MUREN, L'), (1560, 'ZACHARY, W'), (1561, 'ZAKS, M'), (1562, 'PARK, E'), (1563, 'ZASLAVER, A'), (1564, 'MAYO, A'), (1565, 'ROSENBERG, R'), (1566, 'BASHKIN, P'), (1567, 'SBERRO, H'), (1568, 'TSALYUK, M'), (1569, 'ZEKRI, N'), (1570, 'CLERC, J'), (1571, 'CERDEIRA, H'), (1572, 'CHEN, S'), (1573, 'BRAUN, T'), (1574, 'YAO, Y'), (1575, 'ZHAN, M'), (1576, 'ZHENG, D'), (1577, 'TRIMPER, S'), (1578, 'ZHENG, B'), (1579, 'HUI, P'), (1580, 'ZHENG, Z'), (1581, 'ZHONGBAO, K'), (1582, 'CHANGSHUI, Z'), (1583, 'ZHOU, H'), (1584, 'ZHOU, S'), (1585, 'MONDRAGON, R'), (1586, 'ZHU, H'), (1587, 'HUANG, Z'), (1588, 'ZHU, J'), (1589, 'ZIMMERMANN, M')]\n"
          ]
        }
      ]
    }
  ],
  "metadata": {
    "celltoolbar": "Slideshow",
    "kernelspec": {
      "display_name": "Python 3",
      "language": "python",
      "name": "python3"
    },
    "language_info": {
      "codemirror_mode": {
        "name": "ipython",
        "version": 3
      },
      "file_extension": ".py",
      "mimetype": "text/x-python",
      "name": "python",
      "nbconvert_exporter": "python",
      "pygments_lexer": "ipython3",
      "version": "3.8.10"
    },
    "colab": {
      "provenance": []
    }
  },
  "nbformat": 4,
  "nbformat_minor": 0
}